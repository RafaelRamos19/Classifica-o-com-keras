{
  "nbformat": 4,
  "nbformat_minor": 0,
  "metadata": {
    "colab": {
      "provenance": [],
      "authorship_tag": "ABX9TyNqcdbAEyfY8cZuC5If7k9D",
      "include_colab_link": true
    },
    "kernelspec": {
      "name": "python3",
      "display_name": "Python 3"
    },
    "language_info": {
      "name": "python"
    }
  },
  "cells": [
    {
      "cell_type": "markdown",
      "metadata": {
        "id": "view-in-github",
        "colab_type": "text"
      },
      "source": [
        "<a href=\"https://colab.research.google.com/github/RafaelRamos19/Classifica-o-com-keras/blob/main/Classifica%C3%A7%C3%A3o_com_keras.ipynb\" target=\"_parent\"><img src=\"https://colab.research.google.com/assets/colab-badge.svg\" alt=\"Open In Colab\"/></a>"
      ]
    },
    {
      "cell_type": "code",
      "execution_count": null,
      "metadata": {
        "id": "7mOqfQ480b38"
      },
      "outputs": [],
      "source": [
        "import tensorflow\n",
        "from tensorflow import keras\n",
        "import numpy as np"
      ]
    },
    {
      "cell_type": "code",
      "source": [
        "dataset = keras.datasets.fashion_mnist #pegando dataset dentro da biblioteca\n",
        "dataset.load_data()"
      ],
      "metadata": {
        "colab": {
          "base_uri": "https://localhost:8080/"
        },
        "id": "vkTGYwZr00yH",
        "outputId": "92255184-028b-4f29-a56e-f295adcb34a9"
      },
      "execution_count": null,
      "outputs": [
        {
          "output_type": "stream",
          "name": "stdout",
          "text": [
            "Downloading data from https://storage.googleapis.com/tensorflow/tf-keras-datasets/train-labels-idx1-ubyte.gz\n",
            "32768/29515 [=================================] - 0s 0us/step\n",
            "40960/29515 [=========================================] - 0s 0us/step\n",
            "Downloading data from https://storage.googleapis.com/tensorflow/tf-keras-datasets/train-images-idx3-ubyte.gz\n",
            "26427392/26421880 [==============================] - 0s 0us/step\n",
            "26435584/26421880 [==============================] - 0s 0us/step\n",
            "Downloading data from https://storage.googleapis.com/tensorflow/tf-keras-datasets/t10k-labels-idx1-ubyte.gz\n",
            "16384/5148 [===============================================================================================] - 0s 0us/step\n",
            "Downloading data from https://storage.googleapis.com/tensorflow/tf-keras-datasets/t10k-images-idx3-ubyte.gz\n",
            "4423680/4422102 [==============================] - 0s 0us/step\n",
            "4431872/4422102 [==============================] - 0s 0us/step\n"
          ]
        },
        {
          "output_type": "execute_result",
          "data": {
            "text/plain": [
              "((array([[[0, 0, 0, ..., 0, 0, 0],\n",
              "          [0, 0, 0, ..., 0, 0, 0],\n",
              "          [0, 0, 0, ..., 0, 0, 0],\n",
              "          ...,\n",
              "          [0, 0, 0, ..., 0, 0, 0],\n",
              "          [0, 0, 0, ..., 0, 0, 0],\n",
              "          [0, 0, 0, ..., 0, 0, 0]],\n",
              "  \n",
              "         [[0, 0, 0, ..., 0, 0, 0],\n",
              "          [0, 0, 0, ..., 0, 0, 0],\n",
              "          [0, 0, 0, ..., 0, 0, 0],\n",
              "          ...,\n",
              "          [0, 0, 0, ..., 0, 0, 0],\n",
              "          [0, 0, 0, ..., 0, 0, 0],\n",
              "          [0, 0, 0, ..., 0, 0, 0]],\n",
              "  \n",
              "         [[0, 0, 0, ..., 0, 0, 0],\n",
              "          [0, 0, 0, ..., 0, 0, 0],\n",
              "          [0, 0, 0, ..., 0, 0, 0],\n",
              "          ...,\n",
              "          [0, 0, 0, ..., 0, 0, 0],\n",
              "          [0, 0, 0, ..., 0, 0, 0],\n",
              "          [0, 0, 0, ..., 0, 0, 0]],\n",
              "  \n",
              "         ...,\n",
              "  \n",
              "         [[0, 0, 0, ..., 0, 0, 0],\n",
              "          [0, 0, 0, ..., 0, 0, 0],\n",
              "          [0, 0, 0, ..., 0, 0, 0],\n",
              "          ...,\n",
              "          [0, 0, 0, ..., 0, 0, 0],\n",
              "          [0, 0, 0, ..., 0, 0, 0],\n",
              "          [0, 0, 0, ..., 0, 0, 0]],\n",
              "  \n",
              "         [[0, 0, 0, ..., 0, 0, 0],\n",
              "          [0, 0, 0, ..., 0, 0, 0],\n",
              "          [0, 0, 0, ..., 0, 0, 0],\n",
              "          ...,\n",
              "          [0, 0, 0, ..., 0, 0, 0],\n",
              "          [0, 0, 0, ..., 0, 0, 0],\n",
              "          [0, 0, 0, ..., 0, 0, 0]],\n",
              "  \n",
              "         [[0, 0, 0, ..., 0, 0, 0],\n",
              "          [0, 0, 0, ..., 0, 0, 0],\n",
              "          [0, 0, 0, ..., 0, 0, 0],\n",
              "          ...,\n",
              "          [0, 0, 0, ..., 0, 0, 0],\n",
              "          [0, 0, 0, ..., 0, 0, 0],\n",
              "          [0, 0, 0, ..., 0, 0, 0]]], dtype=uint8),\n",
              "  array([9, 0, 0, ..., 3, 0, 5], dtype=uint8)),\n",
              " (array([[[0, 0, 0, ..., 0, 0, 0],\n",
              "          [0, 0, 0, ..., 0, 0, 0],\n",
              "          [0, 0, 0, ..., 0, 0, 0],\n",
              "          ...,\n",
              "          [0, 0, 0, ..., 0, 0, 0],\n",
              "          [0, 0, 0, ..., 0, 0, 0],\n",
              "          [0, 0, 0, ..., 0, 0, 0]],\n",
              "  \n",
              "         [[0, 0, 0, ..., 0, 0, 0],\n",
              "          [0, 0, 0, ..., 0, 0, 0],\n",
              "          [0, 0, 0, ..., 0, 0, 0],\n",
              "          ...,\n",
              "          [0, 0, 0, ..., 0, 0, 0],\n",
              "          [0, 0, 0, ..., 0, 0, 0],\n",
              "          [0, 0, 0, ..., 0, 0, 0]],\n",
              "  \n",
              "         [[0, 0, 0, ..., 0, 0, 0],\n",
              "          [0, 0, 0, ..., 0, 0, 0],\n",
              "          [0, 0, 0, ..., 0, 0, 0],\n",
              "          ...,\n",
              "          [0, 0, 0, ..., 0, 0, 0],\n",
              "          [0, 0, 0, ..., 0, 0, 0],\n",
              "          [0, 0, 0, ..., 0, 0, 0]],\n",
              "  \n",
              "         ...,\n",
              "  \n",
              "         [[0, 0, 0, ..., 0, 0, 0],\n",
              "          [0, 0, 0, ..., 0, 0, 0],\n",
              "          [0, 0, 0, ..., 0, 0, 0],\n",
              "          ...,\n",
              "          [0, 0, 0, ..., 0, 0, 0],\n",
              "          [0, 0, 0, ..., 0, 0, 0],\n",
              "          [0, 0, 0, ..., 0, 0, 0]],\n",
              "  \n",
              "         [[0, 0, 0, ..., 0, 0, 0],\n",
              "          [0, 0, 0, ..., 0, 0, 0],\n",
              "          [0, 0, 0, ..., 0, 0, 0],\n",
              "          ...,\n",
              "          [0, 0, 0, ..., 0, 0, 0],\n",
              "          [0, 0, 0, ..., 0, 0, 0],\n",
              "          [0, 0, 0, ..., 0, 0, 0]],\n",
              "  \n",
              "         [[0, 0, 0, ..., 0, 0, 0],\n",
              "          [0, 0, 0, ..., 0, 0, 0],\n",
              "          [0, 0, 0, ..., 0, 0, 0],\n",
              "          ...,\n",
              "          [0, 0, 0, ..., 0, 0, 0],\n",
              "          [0, 0, 0, ..., 0, 0, 0],\n",
              "          [0, 0, 0, ..., 0, 0, 0]]], dtype=uint8),\n",
              "  array([9, 2, 1, ..., 8, 1, 5], dtype=uint8)))"
            ]
          },
          "metadata": {},
          "execution_count": 2
        }
      ]
    },
    {
      "cell_type": "markdown",
      "source": [
        "O dataset é separado em dados de treino e de teste, na próxima célula cada parte é colocada em um atributo"
      ],
      "metadata": {
        "id": "kATGz9o03SMY"
      }
    },
    {
      "cell_type": "code",
      "source": [
        "((imagens_treino,identificacoes_treino),(imagens_teste, identificacoes_teste)) = dataset.load_data()"
      ],
      "metadata": {
        "id": "3pMjxIsD1d-W"
      },
      "execution_count": null,
      "outputs": []
    },
    {
      "cell_type": "code",
      "source": [
        "imagens_treino\n"
      ],
      "metadata": {
        "colab": {
          "base_uri": "https://localhost:8080/"
        },
        "id": "uP2FoDhs29HC",
        "outputId": "b5d0e113-1d77-4cd1-ffed-9d68d8a9b356"
      },
      "execution_count": null,
      "outputs": [
        {
          "output_type": "execute_result",
          "data": {
            "text/plain": [
              "array([[[0, 0, 0, ..., 0, 0, 0],\n",
              "        [0, 0, 0, ..., 0, 0, 0],\n",
              "        [0, 0, 0, ..., 0, 0, 0],\n",
              "        ...,\n",
              "        [0, 0, 0, ..., 0, 0, 0],\n",
              "        [0, 0, 0, ..., 0, 0, 0],\n",
              "        [0, 0, 0, ..., 0, 0, 0]],\n",
              "\n",
              "       [[0, 0, 0, ..., 0, 0, 0],\n",
              "        [0, 0, 0, ..., 0, 0, 0],\n",
              "        [0, 0, 0, ..., 0, 0, 0],\n",
              "        ...,\n",
              "        [0, 0, 0, ..., 0, 0, 0],\n",
              "        [0, 0, 0, ..., 0, 0, 0],\n",
              "        [0, 0, 0, ..., 0, 0, 0]],\n",
              "\n",
              "       [[0, 0, 0, ..., 0, 0, 0],\n",
              "        [0, 0, 0, ..., 0, 0, 0],\n",
              "        [0, 0, 0, ..., 0, 0, 0],\n",
              "        ...,\n",
              "        [0, 0, 0, ..., 0, 0, 0],\n",
              "        [0, 0, 0, ..., 0, 0, 0],\n",
              "        [0, 0, 0, ..., 0, 0, 0]],\n",
              "\n",
              "       ...,\n",
              "\n",
              "       [[0, 0, 0, ..., 0, 0, 0],\n",
              "        [0, 0, 0, ..., 0, 0, 0],\n",
              "        [0, 0, 0, ..., 0, 0, 0],\n",
              "        ...,\n",
              "        [0, 0, 0, ..., 0, 0, 0],\n",
              "        [0, 0, 0, ..., 0, 0, 0],\n",
              "        [0, 0, 0, ..., 0, 0, 0]],\n",
              "\n",
              "       [[0, 0, 0, ..., 0, 0, 0],\n",
              "        [0, 0, 0, ..., 0, 0, 0],\n",
              "        [0, 0, 0, ..., 0, 0, 0],\n",
              "        ...,\n",
              "        [0, 0, 0, ..., 0, 0, 0],\n",
              "        [0, 0, 0, ..., 0, 0, 0],\n",
              "        [0, 0, 0, ..., 0, 0, 0]],\n",
              "\n",
              "       [[0, 0, 0, ..., 0, 0, 0],\n",
              "        [0, 0, 0, ..., 0, 0, 0],\n",
              "        [0, 0, 0, ..., 0, 0, 0],\n",
              "        ...,\n",
              "        [0, 0, 0, ..., 0, 0, 0],\n",
              "        [0, 0, 0, ..., 0, 0, 0],\n",
              "        [0, 0, 0, ..., 0, 0, 0]]], dtype=uint8)"
            ]
          },
          "metadata": {},
          "execution_count": 4
        }
      ]
    },
    {
      "cell_type": "markdown",
      "source": [
        "### Visualizando as imagens com matplotlib"
      ],
      "metadata": {
        "id": "uLZzlWB35lYj"
      }
    },
    {
      "cell_type": "code",
      "source": [
        "import matplotlib.pyplot as plt\n",
        "plt.imshow(imagens_treino[0])"
      ],
      "metadata": {
        "colab": {
          "base_uri": "https://localhost:8080/",
          "height": 282
        },
        "id": "rFSHPtkA3Cj2",
        "outputId": "84b277ff-32f0-4ffa-b4ee-1a46769e24cc"
      },
      "execution_count": null,
      "outputs": [
        {
          "output_type": "execute_result",
          "data": {
            "text/plain": [
              "<matplotlib.image.AxesImage at 0x7fe6b510a4d0>"
            ]
          },
          "metadata": {},
          "execution_count": 5
        },
        {
          "output_type": "display_data",
          "data": {
            "text/plain": [
              "<Figure size 432x288 with 1 Axes>"
            ],
            "image/png": "[encoded data removed]"
          },
          "metadata": {
            "needs_background": "light"
          }
        }
      ]
    },
    {
      "cell_type": "markdown",
      "source": [
        "Cada imagem possui uma numeração de identificação, esse número é de 1 a 10, ou seja, existem 10 tipos diferentes de roupas no dataset"
      ],
      "metadata": {
        "id": "a6POe0lA7gV3"
      }
    },
    {
      "cell_type": "code",
      "source": [
        "nome_de_classificacoes = ['Camiseta', \n",
        "'Calca','Pullover','Vestido','Casaco','Sandalia','Camisa','Tênis','Bolsa','Bota']"
      ],
      "metadata": {
        "id": "LWY2z6MVY_XW"
      },
      "execution_count": null,
      "outputs": []
    },
    {
      "cell_type": "code",
      "source": [
        "for imagem in range(10):\n",
        "  plt.subplot(2,5,imagem+1)\n",
        "  plt.imshow(imagens_treino[imagem])\n",
        "  plt.title(nome_de_classificacoes[identificacoes_treino[imagem]])"
      ],
      "metadata": {
        "colab": {
          "base_uri": "https://localhost:8080/",
          "height": 240
        },
        "id": "JiuVe6Y35hIP",
        "outputId": "57772f6e-2bfe-46a1-cf40-aaec3410ae07"
      },
      "execution_count": null,
      "outputs": [
        {
          "output_type": "display_data",
          "data": {
            "text/plain": [
              "<Figure size 432x288 with 10 Axes>"
            ],
            "image/png": "[encoded data removed]"
          },
          "metadata": {
            "needs_background": "light"
          }
        }
      ]
    },
    {
      "cell_type": "markdown",
      "source": [
        "Em deep learning existe a entrada, o processamento e a saída em sequêmcia, todas essas etapas fazem parte do modelo (diferente do machine learning)"
      ],
      "metadata": {
        "id": "H1SJqrqbd5aw"
      }
    },
    {
      "cell_type": "markdown",
      "source": [
        "#Organizando modelo"
      ],
      "metadata": {
        "id": "l-7v2UTmfcRh"
      }
    },
    {
      "cell_type": "markdown",
      "source": [
        "### Camada 0\n",
        "Nesse momento as imagens (como visto antes elas possuem 28 pixels) serão pegas. Elas estão no formato de array de dimensão 28X28, ou seja, 28 linhas e 28 colunas, nessa camada o keras irá achatar essas imagens deixando-as com uma linha e 28 colunas, ou seja, irá reorganizar cada imagem e a função trabalhar com cada pixel separado"
      ],
      "metadata": {
        "id": "1NwDwZV0gA3I"
      }
    },
    {
      "cell_type": "code",
      "source": [
        "# input_shape = tamanho dos dados de entrada (imagens de 28x28 pixels)\n",
        "# keras.layers = camadas do keras\n",
        "# Flatten = achatamento das imagens\n",
        "entrada = keras.layers.Flatten(input_shape=(28,28)) "
      ],
      "metadata": {
        "id": "nSBvoEmK8SQZ"
      },
      "execution_count": null,
      "outputs": []
    },
    {
      "cell_type": "markdown",
      "source": [
        "###Camada 1"
      ],
      "metadata": {
        "id": "htnc3W_-j3us"
      }
    },
    {
      "cell_type": "markdown",
      "source": [
        "Esse será uma camada mais densa, chamada de totalmente conectada pois cada função que está responsável por cada pixel irá se comunicar com os demais deixando-as bem conectadas"
      ],
      "metadata": {
        "id": "Wi8yZNjEkUnK"
      }
    },
    {
      "cell_type": "code",
      "source": [
        "#Dense(x, activation) =  função que permite que os pixels se comuniquem com os demais \n",
        "#x: numero de funções que queremos colocar na camada para a comunicação entre os pixels\n",
        "#activation: função que define quando elas serão ativadas (iremos usar uma ja nativa do tensorflow que os progamadores mais usam)\n",
        "#tensorflow.nn = funções de redes neurais do tensorflow\n",
        "processamento = keras.layers.Dense(256, activation=tensorflow.nn.relu) "
      ],
      "metadata": {
        "id": "JDJEqHV6j6j6"
      },
      "execution_count": null,
      "outputs": []
    },
    {
      "cell_type": "markdown",
      "source": [
        "A relu é usada pois ela não classifica como sendo uma função linear"
      ],
      "metadata": {
        "id": "J6SLV8MhtEDc"
      }
    },
    {
      "cell_type": "markdown",
      "source": [
        "###Camada 2"
      ],
      "metadata": {
        "id": "NVgvP_D-woNF"
      }
    },
    {
      "cell_type": "code",
      "source": [
        "saida = keras.layers.Dense(10, activation=tensorflow.nn.softmax) #10 é o número de classificaçoes nos dados, a quantidade que queremos na saída"
      ],
      "metadata": {
        "id": "oSzXzmdUtZqE"
      },
      "execution_count": null,
      "outputs": []
    },
    {
      "cell_type": "markdown",
      "source": [
        "O softmax irá retornar a propabilidade da imagem em questão pertencer a alguma categoria"
      ],
      "metadata": {
        "id": "AtPHPkgDv1Ae"
      }
    },
    {
      "cell_type": "markdown",
      "source": [
        "### Criando o modelo"
      ],
      "metadata": {
        "id": "k0RNIHqnwrI1"
      }
    },
    {
      "cell_type": "code",
      "source": [
        "modelo = keras.Sequential([entrada,processamento,saida])"
      ],
      "metadata": {
        "id": "zAvkCySpjnHw"
      },
      "execution_count": null,
      "outputs": []
    },
    {
      "cell_type": "markdown",
      "source": [
        "Esse modelo possui duas camadas"
      ],
      "metadata": {
        "id": "ter8fe5YwRqG"
      }
    },
    {
      "cell_type": "markdown",
      "source": [
        "## Treinando o modelo"
      ],
      "metadata": {
        "id": "nmcegKvGwkcg"
      }
    },
    {
      "cell_type": "markdown",
      "source": [
        "Antes de treinar o modelo ele deve ser compilado, para isso ele tem os parâmetros de otimizador e de perda"
      ],
      "metadata": {
        "id": "IcE5SkQ7w8y9"
      }
    },
    {
      "cell_type": "code",
      "source": [
        "modelo.compile(optimizer='adam', loss='sparse_categorical_crossentropy')\n",
        "modelo.fit(imagens_treino, identificacoes_treino)"
      ],
      "metadata": {
        "colab": {
          "base_uri": "https://localhost:8080/"
        },
        "id": "HwYmotM8wFd3",
        "outputId": "84870ce6-3f99-4f67-b8a6-83e5ab2e446f"
      },
      "execution_count": null,
      "outputs": [
        {
          "output_type": "stream",
          "name": "stdout",
          "text": [
            "1875/1875 [==============================] - 6s 3ms/step - loss: 3.5746\n"
          ]
        },
        {
          "output_type": "execute_result",
          "data": {
            "text/plain": [
              "<keras.callbacks.History at 0x7fe6b0b1a8d0>"
            ]
          },
          "metadata": {},
          "execution_count": 12
        }
      ]
    },
    {
      "cell_type": "markdown",
      "source": [
        "Tivemos uma perda considerável, porém podemos reduzi-la"
      ],
      "metadata": {
        "id": "zMj9bKAohliN"
      }
    },
    {
      "cell_type": "markdown",
      "source": [
        "###Reduzindo a perda"
      ],
      "metadata": {
        "id": "DD9NjJWg0tGn"
      }
    },
    {
      "cell_type": "markdown",
      "source": [
        "Começando pela camada zero"
      ],
      "metadata": {
        "id": "oo1f4udkiIm0"
      }
    },
    {
      "cell_type": "code",
      "source": [
        "plt.imshow(imagens_treino[0])\n",
        "plt.colorbar()"
      ],
      "metadata": {
        "id": "LZnaU1rAz_nP",
        "colab": {
          "base_uri": "https://localhost:8080/"
        },
        "outputId": "e3fc2df6-cabf-4c08-dccf-4e220139f381"
      },
      "execution_count": null,
      "outputs": [
        {
          "output_type": "execute_result",
          "data": {
            "text/plain": [
              "<matplotlib.colorbar.Colorbar at 0x7fe6b0a41cd0>"
            ]
          },
          "metadata": {},
          "execution_count": 13
        },
        {
          "output_type": "display_data",
          "data": {
            "text/plain": [
              "<Figure size 432x288 with 2 Axes>"
            ],
            "image/png": "[encoded data removed]"
          },
          "metadata": {
            "needs_background": "light"
          }
        }
      ]
    },
    {
      "cell_type": "markdown",
      "source": [
        "Observe que existe uma variação nas cores de 0 até 250, essa escala pode estar fazendo a perda do algorítmo aumentar. Para isso essas cores deverão ser nomalizadas ficando entre zero e 1, assim cada valor das imagens irá ser dividido pela quantidade total, ou seja 250"
      ],
      "metadata": {
        "id": "I8KRr7oMjY0-"
      }
    },
    {
      "cell_type": "code",
      "source": [
        "imagens_treino = imagens_treino/255.0"
      ],
      "metadata": {
        "id": "szBQwxw11Iw5"
      },
      "execution_count": null,
      "outputs": []
    },
    {
      "cell_type": "code",
      "source": [
        "entrada = keras.layers.Flatten(input_shape=(28,28)) \n",
        "processamento = keras.layers.Dense(256, activation=tensorflow.nn.relu) \n",
        "saida = keras.layers.Dense(10, activation=tensorflow.nn.softmax)\n",
        "\n",
        "modelo = keras.Sequential([entrada,processamento,saida])\n",
        "\n",
        "modelo.compile(optimizer='adam', loss='sparse_categorical_crossentropy')\n",
        "modelo.fit(imagens_treino, identificacoes_treino)"
      ],
      "metadata": {
        "id": "u5eBUnCV1Lc_",
        "colab": {
          "base_uri": "https://localhost:8080/"
        },
        "outputId": "357e213b-5cd1-4ac4-c87d-b8eb4da24cff"
      },
      "execution_count": null,
      "outputs": [
        {
          "output_type": "stream",
          "name": "stdout",
          "text": [
            "1875/1875 [==============================] - 9s 5ms/step - loss: 0.4797\n"
          ]
        },
        {
          "output_type": "execute_result",
          "data": {
            "text/plain": [
              "<keras.callbacks.History at 0x7fe6b09d03d0>"
            ]
          },
          "metadata": {},
          "execution_count": 15
        }
      ]
    },
    {
      "cell_type": "markdown",
      "source": [
        "Refazendo o modelo podemos perceber que nossa perda diminuiu drásticamente"
      ],
      "metadata": {
        "id": "NuPCIsnBlTcN"
      }
    },
    {
      "cell_type": "markdown",
      "source": [
        "Dependendo do modelo a normalização pode ajudar muito a reduzir as perdas. Porém existem modelos que não são otimizados quando sua entrada é normalizada"
      ],
      "metadata": {
        "id": "OL00pfrgnLVb"
      }
    },
    {
      "cell_type": "markdown",
      "source": [
        "Para reduzir ainda mais a perda podemos treinar nosso modelo mais vezes "
      ],
      "metadata": {
        "id": "lQMlB6BT1ntl"
      }
    },
    {
      "cell_type": "code",
      "source": [
        "entrada = keras.layers.Flatten(input_shape=(28,28)) \n",
        "processamento = keras.layers.Dense(256, activation=tensorflow.nn.relu) \n",
        "dropout = keras.layers.Dropout(0.2)\n",
        "saida = keras.layers.Dense(10, activation=tensorflow.nn.softmax)\n",
        "\n",
        "modelo = keras.Sequential([entrada,processamento,dropout,saida])\n",
        "\n",
        "modelo.compile(optimizer='adam', loss='sparse_categorical_crossentropy')\n",
        "modelo.fit(imagens_treino, identificacoes_treino, epochs=5)"
      ],
      "metadata": {
        "colab": {
          "base_uri": "https://localhost:8080/"
        },
        "id": "gzYp7W3ylKOw",
        "outputId": "3c76493f-6a62-4d1d-a8f7-5e2909b62bbe"
      },
      "execution_count": null,
      "outputs": [
        {
          "output_type": "stream",
          "name": "stdout",
          "text": [
            "Epoch 1/5\n",
            "1875/1875 [==============================] - 7s 3ms/step - loss: 0.5083\n",
            "Epoch 2/5\n",
            "1875/1875 [==============================] - 5s 3ms/step - loss: 0.3866\n",
            "Epoch 3/5\n",
            "1875/1875 [==============================] - 5s 3ms/step - loss: 0.3538\n",
            "Epoch 4/5\n",
            "1875/1875 [==============================] - 5s 3ms/step - loss: 0.3338\n",
            "Epoch 5/5\n",
            "1875/1875 [==============================] - 5s 3ms/step - loss: 0.3188\n"
          ]
        },
        {
          "output_type": "execute_result",
          "data": {
            "text/plain": [
              "<keras.callbacks.History at 0x7fe6af152c10>"
            ]
          },
          "metadata": {},
          "execution_count": 16
        }
      ]
    },
    {
      "cell_type": "markdown",
      "source": [
        "Conseguimos reduzir nossa perda em quase pela metade"
      ],
      "metadata": {
        "id": "M3JQ09oD1_DG"
      }
    },
    {
      "cell_type": "markdown",
      "source": [
        "Podemos saber ainda mais, o quanto estamos ganhando"
      ],
      "metadata": {
        "id": "biUDN7cn2Int"
      }
    },
    {
      "cell_type": "code",
      "source": [
        "entrada = keras.layers.Flatten(input_shape=(28,28)) \n",
        "processamento = keras.layers.Dense(256, activation=tensorflow.nn.relu) \n",
        "saida = keras.layers.Dense(10, activation=tensorflow.nn.softmax)\n",
        "\n",
        "modelo = keras.Sequential([entrada,processamento,saida])\n",
        "\n",
        "modelo.compile(optimizer='adam', loss='sparse_categorical_crossentropy', metrics=['accuracy'])\n",
        "modelo.fit(imagens_treino, identificacoes_treino, epochs=5)"
      ],
      "metadata": {
        "colab": {
          "base_uri": "https://localhost:8080/"
        },
        "id": "1p9b27J2pAMu",
        "outputId": "1d71f7bd-46a4-4a6c-95cb-d72ad0d8b008"
      },
      "execution_count": null,
      "outputs": [
        {
          "output_type": "stream",
          "name": "stdout",
          "text": [
            "Epoch 1/5\n",
            "1875/1875 [==============================] - 5s 3ms/step - loss: 0.4831 - accuracy: 0.8292\n",
            "Epoch 2/5\n",
            "1875/1875 [==============================] - 5s 3ms/step - loss: 0.3641 - accuracy: 0.8680\n",
            "Epoch 3/5\n",
            "1875/1875 [==============================] - 5s 3ms/step - loss: 0.3265 - accuracy: 0.8802\n",
            "Epoch 4/5\n",
            "1875/1875 [==============================] - 5s 3ms/step - loss: 0.3029 - accuracy: 0.8883\n",
            "Epoch 5/5\n",
            "1875/1875 [==============================] - 5s 3ms/step - loss: 0.2837 - accuracy: 0.8954\n"
          ]
        },
        {
          "output_type": "execute_result",
          "data": {
            "text/plain": [
              "<keras.callbacks.History at 0x7fe6b07f0d10>"
            ]
          },
          "metadata": {},
          "execution_count": 17
        }
      ]
    },
    {
      "cell_type": "markdown",
      "source": [
        "Como visto nossa acurácia só está aumentando e a perda diminuindo"
      ],
      "metadata": {
        "id": "cmncsqOx2huQ"
      }
    },
    {
      "cell_type": "code",
      "source": [
        "testes = modelo.predict(imagens_teste)"
      ],
      "metadata": {
        "id": "CvearF402XFV"
      },
      "execution_count": null,
      "outputs": []
    },
    {
      "cell_type": "code",
      "source": [
        "print('resultado do teste:',np.argmax(testes[0]))\n",
        "print('número da imagem de teste:',identificacoes_teste[0])"
      ],
      "metadata": {
        "colab": {
          "base_uri": "https://localhost:8080/"
        },
        "id": "NPTHYyIE5R8O",
        "outputId": "ae8b7295-5878-44f1-b3da-8a433dabedf1"
      },
      "execution_count": null,
      "outputs": [
        {
          "output_type": "stream",
          "name": "stdout",
          "text": [
            "resultado do teste: 9\n",
            "número da imagem de teste: 9\n"
          ]
        }
      ]
    },
    {
      "cell_type": "markdown",
      "source": [
        "Observe que nesse exemplo a rede neural acertou a imagem"
      ],
      "metadata": {
        "id": "7dgbSHWd5-3R"
      }
    },
    {
      "cell_type": "markdown",
      "source": [
        "Agora vamos saber como um todo "
      ],
      "metadata": {
        "id": "5N_q3Vjn6PvH"
      }
    },
    {
      "cell_type": "code",
      "source": [
        "perda_teste, acuracia_teste = modelo.evaluate(imagens_teste, identificacoes_teste)"
      ],
      "metadata": {
        "colab": {
          "base_uri": "https://localhost:8080/"
        },
        "id": "KMextOzT5S--",
        "outputId": "7ff9e6ab-a7ce-4bb2-b0e1-41fcb9b1b338"
      },
      "execution_count": null,
      "outputs": [
        {
          "output_type": "stream",
          "name": "stdout",
          "text": [
            "313/313 [==============================] - 1s 2ms/step - loss: 53.6792 - accuracy: 0.8692\n"
          ]
        }
      ]
    },
    {
      "cell_type": "code",
      "source": [
        "print('perda do teste', perda_teste)\n",
        "print('acurácia do teste', acuracia_teste)"
      ],
      "metadata": {
        "colab": {
          "base_uri": "https://localhost:8080/"
        },
        "id": "WCi0t75f6_re",
        "outputId": "11bbe048-57fa-4195-f2a6-1d1491fc0321"
      },
      "execution_count": null,
      "outputs": [
        {
          "output_type": "stream",
          "name": "stdout",
          "text": [
            "perda do teste 53.67919921875\n",
            "acurácia do teste 0.8691999912261963\n"
          ]
        }
      ]
    },
    {
      "cell_type": "markdown",
      "source": [
        "A perda está muito alta, logo ajustes devem ser feitos"
      ],
      "metadata": {
        "id": "Xjrbywal7VZf"
      }
    },
    {
      "cell_type": "markdown",
      "source": [
        "Para melhorar podemos deixar dados reservados para a validação"
      ],
      "metadata": {
        "id": "yGXmLfYC7iz1"
      }
    },
    {
      "cell_type": "code",
      "source": [
        "entrada = keras.layers.Flatten(input_shape=(28,28)) \n",
        "processamento = keras.layers.Dense(256, activation=tensorflow.nn.relu) \n",
        "saida = keras.layers.Dense(10, activation=tensorflow.nn.softmax)\n",
        "\n",
        "modelo = keras.Sequential([entrada,processamento,saida])\n",
        "\n",
        "modelo.compile(optimizer='adam', loss='sparse_categorical_crossentropy', metrics=['accuracy'])\n",
        "modelo.fit(imagens_treino, identificacoes_treino, epochs=5, validation_split=0.2)"
      ],
      "metadata": {
        "colab": {
          "base_uri": "https://localhost:8080/"
        },
        "id": "LS-rfjkd7Ooc",
        "outputId": "9ef3ff21-7a2d-4020-ff5a-48257035e2d9"
      },
      "execution_count": null,
      "outputs": [
        {
          "output_type": "stream",
          "name": "stdout",
          "text": [
            "Epoch 1/5\n",
            "1500/1500 [==============================] - 5s 3ms/step - loss: 0.4986 - accuracy: 0.8243 - val_loss: 0.4109 - val_accuracy: 0.8557\n",
            "Epoch 2/5\n",
            "1500/1500 [==============================] - 6s 4ms/step - loss: 0.3748 - accuracy: 0.8629 - val_loss: 0.3656 - val_accuracy: 0.8655\n",
            "Epoch 3/5\n",
            "1500/1500 [==============================] - 5s 3ms/step - loss: 0.3337 - accuracy: 0.8782 - val_loss: 0.3643 - val_accuracy: 0.8690\n",
            "Epoch 4/5\n",
            "1500/1500 [==============================] - 5s 3ms/step - loss: 0.3084 - accuracy: 0.8861 - val_loss: 0.3534 - val_accuracy: 0.8719\n",
            "Epoch 5/5\n",
            "1500/1500 [==============================] - 5s 3ms/step - loss: 0.2898 - accuracy: 0.8927 - val_loss: 0.3366 - val_accuracy: 0.8786\n"
          ]
        },
        {
          "output_type": "execute_result",
          "data": {
            "text/plain": [
              "<keras.callbacks.History at 0x7fe6af2a2450>"
            ]
          },
          "metadata": {},
          "execution_count": 22
        }
      ]
    },
    {
      "cell_type": "markdown",
      "source": [
        "val_loss: 0.3338 - val_accuracy: 0.8777 são os de validação, percebemos que a perda deles está diminuindo e a acurácia aumentando"
      ],
      "metadata": {
        "id": "lswnrt869Oyv"
      }
    },
    {
      "cell_type": "markdown",
      "source": [
        "Vamos fazer um gráfico com isso"
      ],
      "metadata": {
        "id": "wGuYDCEA9feP"
      }
    },
    {
      "cell_type": "code",
      "source": [
        "historico = modelo.fit(imagens_treino, identificacoes_treino, epochs=5, validation_split=0.2)"
      ],
      "metadata": {
        "colab": {
          "base_uri": "https://localhost:8080/"
        },
        "id": "QI42GN0z865Y",
        "outputId": "b67dfe2a-a0c2-4167-df62-7cedf9c3225c"
      },
      "execution_count": null,
      "outputs": [
        {
          "output_type": "stream",
          "name": "stdout",
          "text": [
            "Epoch 1/5\n",
            "1500/1500 [==============================] - 5s 3ms/step - loss: 0.2762 - accuracy: 0.8973 - val_loss: 0.3219 - val_accuracy: 0.8854\n",
            "Epoch 2/5\n",
            "1500/1500 [==============================] - 5s 3ms/step - loss: 0.2608 - accuracy: 0.9025 - val_loss: 0.3253 - val_accuracy: 0.8837\n",
            "Epoch 3/5\n",
            "1500/1500 [==============================] - 5s 3ms/step - loss: 0.2506 - accuracy: 0.9064 - val_loss: 0.3143 - val_accuracy: 0.8878\n",
            "Epoch 4/5\n",
            "1500/1500 [==============================] - 5s 3ms/step - loss: 0.2414 - accuracy: 0.9092 - val_loss: 0.3118 - val_accuracy: 0.8907\n",
            "Epoch 5/5\n",
            "1500/1500 [==============================] - 5s 3ms/step - loss: 0.2296 - accuracy: 0.9139 - val_loss: 0.3267 - val_accuracy: 0.8873\n"
          ]
        }
      ]
    },
    {
      "cell_type": "code",
      "source": [
        "historico.history"
      ],
      "metadata": {
        "colab": {
          "base_uri": "https://localhost:8080/"
        },
        "id": "cfw0L-4V9bCO",
        "outputId": "0ed3d9c3-443e-4d3a-a46b-285907ca7ee9"
      },
      "execution_count": null,
      "outputs": [
        {
          "output_type": "execute_result",
          "data": {
            "text/plain": [
              "{'accuracy': [0.8972708582878113,\n",
              "  0.9025416374206543,\n",
              "  0.9063541889190674,\n",
              "  0.909208357334137,\n",
              "  0.9139166474342346],\n",
              " 'loss': [0.27623385190963745,\n",
              "  0.2607918977737427,\n",
              "  0.2505947947502136,\n",
              "  0.24139048159122467,\n",
              "  0.22961834073066711],\n",
              " 'val_accuracy': [0.8854166865348816,\n",
              "  0.8836666941642761,\n",
              "  0.8878333568572998,\n",
              "  0.890666663646698,\n",
              "  0.887333333492279],\n",
              " 'val_loss': [0.32185959815979004,\n",
              "  0.3253405690193176,\n",
              "  0.31432491540908813,\n",
              "  0.3118138909339905,\n",
              "  0.32669752836227417]}"
            ]
          },
          "metadata": {},
          "execution_count": 24
        }
      ]
    },
    {
      "cell_type": "code",
      "source": [
        "plt.plot(historico.history['accuracy'])\n",
        "plt.plot(historico.history['val_accuracy'])\n",
        "plt.title('acurácia por épocas')\n",
        "plt.xlabel('épocas')\n",
        "plt.ylabel('acurácia')\n",
        "plt.legend(['treino','avaliação'])"
      ],
      "metadata": {
        "colab": {
          "base_uri": "https://localhost:8080/"
        },
        "id": "39_Z-M7mBm_t",
        "outputId": "bb2c9eac-512c-443a-83ee-a1c488a17e6c"
      },
      "execution_count": null,
      "outputs": [
        {
          "output_type": "execute_result",
          "data": {
            "text/plain": [
              "<matplotlib.legend.Legend at 0x7fe6b0708f50>"
            ]
          },
          "metadata": {},
          "execution_count": 25
        },
        {
          "output_type": "display_data",
          "data": {
            "text/plain": [
              "<Figure size 432x288 with 1 Axes>"
            ],
            "image/png": "[encoded data removed]"
          },
          "metadata": {
            "needs_background": "light"
          }
        }
      ]
    },
    {
      "cell_type": "code",
      "source": [
        "plt.plot(historico.history['loss'])\n",
        "plt.plot(historico.history['val_loss'])\n",
        "plt.title('perda por épocas')\n",
        "plt.xlabel('épocas')\n",
        "plt.ylabel('perda')\n",
        "plt.legend(['treino','avaliação'])"
      ],
      "metadata": {
        "colab": {
          "base_uri": "https://localhost:8080/"
        },
        "id": "pLRbw-EGCbp1",
        "outputId": "83e47e8c-f522-4237-f4c3-15f2d3d2c0ec"
      },
      "execution_count": null,
      "outputs": [
        {
          "output_type": "execute_result",
          "data": {
            "text/plain": [
              "<matplotlib.legend.Legend at 0x7fe6b512b490>"
            ]
          },
          "metadata": {},
          "execution_count": 26
        },
        {
          "output_type": "display_data",
          "data": {
            "text/plain": [
              "<Figure size 432x288 with 1 Axes>"
            ],
            "image/png": "[encoded data removed]"
          },
          "metadata": {
            "needs_background": "light"
          }
        }
      ]
    },
    {
      "cell_type": "markdown",
      "source": [
        "#Salvando o modelo"
      ],
      "metadata": {
        "id": "LnSAGNbT2PU6"
      }
    },
    {
      "cell_type": "code",
      "source": [
        "entrada = keras.layers.Flatten(input_shape=(28,28)) \n",
        "processamento = keras.layers.Dense(256, activation=tensorflow.nn.relu) \n",
        "saida = keras.layers.Dense(10, activation=tensorflow.nn.softmax)\n",
        "\n",
        "modelo = keras.Sequential([entrada,processamento,saida])\n",
        "\n",
        "modelo.compile(optimizer='adam', loss='sparse_categorical_crossentropy', metrics=['accuracy'])\n",
        "modelo.fit(imagens_treino, identificacoes_treino, epochs=5, validation_split=0.2)"
      ],
      "metadata": {
        "colab": {
          "base_uri": "https://localhost:8080/"
        },
        "id": "e3VHO2vq34Ec",
        "outputId": "3061ef20-57c9-41a2-b2db-5afd8cbaeb61"
      },
      "execution_count": null,
      "outputs": [
        {
          "output_type": "stream",
          "name": "stdout",
          "text": [
            "Epoch 1/5\n",
            "1500/1500 [==============================] - 6s 4ms/step - loss: 0.4986 - accuracy: 0.8242 - val_loss: 0.4015 - val_accuracy: 0.8572\n",
            "Epoch 2/5\n",
            "1500/1500 [==============================] - 5s 3ms/step - loss: 0.3729 - accuracy: 0.8645 - val_loss: 0.3622 - val_accuracy: 0.8708\n",
            "Epoch 3/5\n",
            "1500/1500 [==============================] - 5s 3ms/step - loss: 0.3371 - accuracy: 0.8752 - val_loss: 0.3338 - val_accuracy: 0.8820\n",
            "Epoch 4/5\n",
            "1500/1500 [==============================] - 5s 3ms/step - loss: 0.3101 - accuracy: 0.8866 - val_loss: 0.3306 - val_accuracy: 0.8798\n",
            "Epoch 5/5\n",
            "1500/1500 [==============================] - 5s 4ms/step - loss: 0.2908 - accuracy: 0.8934 - val_loss: 0.3410 - val_accuracy: 0.8763\n"
          ]
        },
        {
          "output_type": "execute_result",
          "data": {
            "text/plain": [
              "<keras.callbacks.History at 0x7fe6b0715c50>"
            ]
          },
          "metadata": {},
          "execution_count": 27
        }
      ]
    },
    {
      "cell_type": "code",
      "source": [
        "modelo.save('modelo.h5')"
      ],
      "metadata": {
        "id": "ajaw8JWZCwdb"
      },
      "execution_count": null,
      "outputs": []
    },
    {
      "cell_type": "markdown",
      "source": [
        "A extenssão h5 é usada quando se está tarbalhando com muitos dados"
      ],
      "metadata": {
        "id": "wrMotgQ-3vOV"
      }
    },
    {
      "cell_type": "code",
      "source": [
        "from tensorflow.keras.models import load_model\n",
        "# para usa-lo\n",
        "modelo_salvo = load_model('modelo.h5')"
      ],
      "metadata": {
        "id": "TyhfBtog3t8o"
      },
      "execution_count": null,
      "outputs": []
    },
    {
      "cell_type": "markdown",
      "source": [
        "#Parte 2\n",
        "aprofundamento nos modelos de deep learning"
      ],
      "metadata": {
        "id": "UPkigFQr91jw"
      }
    },
    {
      "cell_type": "code",
      "source": [
        "sumario_do_modelo = modelo.summary()"
      ],
      "metadata": {
        "id": "1AYBeISP4gZ8",
        "colab": {
          "base_uri": "https://localhost:8080/"
        },
        "outputId": "ea636c28-53d3-4816-a758-30850d194abf"
      },
      "execution_count": null,
      "outputs": [
        {
          "output_type": "stream",
          "name": "stdout",
          "text": [
            "Model: \"sequential_5\"\n",
            "_________________________________________________________________\n",
            " Layer (type)                Output Shape              Param #   \n",
            "=================================================================\n",
            " flatten_5 (Flatten)         (None, 784)               0         \n",
            "                                                                 \n",
            " dense_10 (Dense)            (None, 256)               200960    \n",
            "                                                                 \n",
            " dense_11 (Dense)            (None, 10)                2570      \n",
            "                                                                 \n",
            "=================================================================\n",
            "Total params: 203,530\n",
            "Trainable params: 203,530\n",
            "Non-trainable params: 0\n",
            "_________________________________________________________________\n"
          ]
        }
      ]
    },
    {
      "cell_type": "code",
      "source": [
        "pesos_da_camada_dense = modelo.layers[1].get_weights()[0]\n",
        "pesos_da_camada_dense"
      ],
      "metadata": {
        "colab": {
          "base_uri": "https://localhost:8080/"
        },
        "id": "8ZO7uhC5Jq2l",
        "outputId": "8a075244-cca9-4d57-e303-2282645bcf00"
      },
      "execution_count": null,
      "outputs": [
        {
          "output_type": "execute_result",
          "data": {
            "text/plain": [
              "array([[ 4.18230556e-02,  4.11534235e-02,  1.02208562e-01, ...,\n",
              "        -8.02800059e-05, -5.86554669e-02, -7.21646622e-02],\n",
              "       [-4.24603671e-02, -1.72456505e-03, -9.70155001e-03, ...,\n",
              "        -3.26907746e-02,  1.39726396e-03,  7.11572319e-02],\n",
              "       [ 4.10867557e-02, -1.08969375e-01,  2.53845125e-01, ...,\n",
              "         2.40718946e-02,  5.81228286e-02,  1.30574778e-01],\n",
              "       ...,\n",
              "       [-1.71615615e-01, -6.47348464e-02,  2.46665403e-01, ...,\n",
              "        -7.09123239e-02,  3.81428264e-02,  1.34169772e-01],\n",
              "       [-4.19808105e-02,  2.12613091e-01,  3.51087451e-01, ...,\n",
              "        -5.02296910e-02,  4.58788220e-03, -3.05442419e-02],\n",
              "       [-1.90712377e-01,  1.42244816e-01,  2.00149298e-01, ...,\n",
              "        -3.48975286e-02, -4.05870145e-03,  4.31152284e-02]], dtype=float32)"
            ]
          },
          "metadata": {},
          "execution_count": 31
        }
      ]
    },
    {
      "cell_type": "markdown",
      "source": [
        "Esses são os pesos das camadas, eles estão em matrizes que estão sendo multiplicadas\n",
        "Os pesos “privilegiam” aspectos das nossas imagens que as diferem umas das outras"
      ],
      "metadata": {
        "id": "lpMYHylwzRbx"
      }
    },
    {
      "cell_type": "markdown",
      "source": [
        "Observe que a matriz se modeifica dependendo do indice"
      ],
      "metadata": {
        "id": "NTVf_VSw1eV6"
      }
    },
    {
      "cell_type": "code",
      "source": [
        "pesos_da_camada_dense"
      ],
      "metadata": {
        "colab": {
          "base_uri": "https://localhost:8080/"
        },
        "id": "KRjuROWXzM8n",
        "outputId": "4e55754b-18d9-458e-8d3a-702ce420e026"
      },
      "execution_count": null,
      "outputs": [
        {
          "output_type": "execute_result",
          "data": {
            "text/plain": [
              "array([[ 4.18230556e-02,  4.11534235e-02,  1.02208562e-01, ...,\n",
              "        -8.02800059e-05, -5.86554669e-02, -7.21646622e-02],\n",
              "       [-4.24603671e-02, -1.72456505e-03, -9.70155001e-03, ...,\n",
              "        -3.26907746e-02,  1.39726396e-03,  7.11572319e-02],\n",
              "       [ 4.10867557e-02, -1.08969375e-01,  2.53845125e-01, ...,\n",
              "         2.40718946e-02,  5.81228286e-02,  1.30574778e-01],\n",
              "       ...,\n",
              "       [-1.71615615e-01, -6.47348464e-02,  2.46665403e-01, ...,\n",
              "        -7.09123239e-02,  3.81428264e-02,  1.34169772e-01],\n",
              "       [-4.19808105e-02,  2.12613091e-01,  3.51087451e-01, ...,\n",
              "        -5.02296910e-02,  4.58788220e-03, -3.05442419e-02],\n",
              "       [-1.90712377e-01,  1.42244816e-01,  2.00149298e-01, ...,\n",
              "        -3.48975286e-02, -4.05870145e-03,  4.31152284e-02]], dtype=float32)"
            ]
          },
          "metadata": {},
          "execution_count": 32
        }
      ]
    },
    {
      "cell_type": "code",
      "source": [
        " modelo.layers[1].get_weights()[1]"
      ],
      "metadata": {
        "colab": {
          "base_uri": "https://localhost:8080/"
        },
        "id": "HeHpdXXn1pzY",
        "outputId": "f7c55fb3-5263-43a5-e55c-4a6131e7a21f"
      },
      "execution_count": null,
      "outputs": [
        {
          "output_type": "execute_result",
          "data": {
            "text/plain": [
              "array([ 0.16182603,  0.03688628,  0.13780706,  0.22594665,  0.15565048,\n",
              "       -0.23148802, -0.06149311,  0.2545399 , -0.01428161,  0.05093638,\n",
              "        0.16909991,  0.09163439,  0.14832845,  0.02725017,  0.29016957,\n",
              "        0.28512403, -0.01537404,  0.07361871,  0.10497025, -0.22086516,\n",
              "        0.14939477,  0.28539696, -0.24988167,  0.03879045, -0.00729059,\n",
              "        0.11980738,  0.41692495,  0.21892862,  0.3971855 ,  0.25690266,\n",
              "       -0.19380185,  0.2154763 , -0.278956  ,  0.1906562 ,  0.00944658,\n",
              "        0.19010025, -0.01757498, -0.00593794,  0.1042228 ,  0.02439768,\n",
              "       -0.00776927,  0.2633677 , -0.01390479, -0.00738751,  0.05972525,\n",
              "        0.01035678,  0.16632196,  0.18961278, -0.16156466,  0.15662615,\n",
              "        0.32435435, -0.3617877 ,  0.2043934 ,  0.24929337,  0.05575561,\n",
              "        0.13614665,  0.02808714,  0.52822584,  0.0372765 ,  0.26277038,\n",
              "       -0.00672182,  0.20496318,  0.22406478,  0.19534732,  0.23803098,\n",
              "       -0.01431564, -0.0356326 , -0.27539814, -0.22407433, -0.21881129,\n",
              "        0.20206752,  0.34685856,  0.18180098,  0.17440249, -0.12275273,\n",
              "        0.16821511,  0.07269317,  0.07389701,  0.04658227,  0.11750118,\n",
              "        0.03722279,  0.08148586,  0.06451439,  0.06063425,  0.26374003,\n",
              "        0.0874088 ,  0.16630821,  0.43824932,  0.26060662, -0.03027084,\n",
              "        0.23292878,  0.24109444,  0.16571124, -0.13961217,  0.038423  ,\n",
              "        0.28996435,  0.05500346,  0.13824709,  0.16139524, -0.04069631,\n",
              "       -0.017003  ,  0.19112489,  0.2403207 ,  0.11293534,  0.25312543,\n",
              "        0.18537807,  0.36151314, -0.0087355 , -0.01636592, -0.02148912,\n",
              "        0.37617347,  0.29292756,  0.16858482,  0.15222985,  0.25097376,\n",
              "        0.24078794, -0.04131518, -0.03839363, -0.0709783 , -0.06296598,\n",
              "        0.18593429,  0.19170013,  0.02659876,  0.33020648,  0.0640875 ,\n",
              "        0.24814436, -0.47062123,  0.25653318, -0.09928679,  0.00970586,\n",
              "       -0.0893349 ,  0.27244672,  0.16345716, -0.31039393, -0.08637512,\n",
              "        0.40356246,  0.17707022,  0.17306297,  0.15246883, -0.03567546,\n",
              "       -0.01768294,  0.2120885 , -0.01676123, -0.07125715, -0.12772223,\n",
              "       -0.01178218,  0.08735569, -0.005712  , -0.12254243, -0.06301399,\n",
              "        0.2525799 , -0.00858438, -0.00791095, -0.03647846,  0.16300723,\n",
              "        0.12749769,  0.20706679,  0.07241709,  0.2327675 , -0.1281647 ,\n",
              "        0.16269152,  0.26761198,  0.02587009, -0.02074203, -0.00075326,\n",
              "        0.2067916 , -0.02185274, -0.04140168,  0.46120423,  0.2633412 ,\n",
              "       -0.01423111,  0.1518691 , -0.03776347,  0.21128006,  0.2582473 ,\n",
              "       -0.01148002,  0.20650731, -0.21079674, -0.01382817, -0.00904994,\n",
              "       -0.14094502,  0.38498643, -0.12168755,  0.21774633,  0.22676662,\n",
              "       -0.02148687,  0.22851996,  0.03914842, -0.1954277 ,  0.26160124,\n",
              "        0.37992504, -0.14617024, -0.00481733,  0.02248499, -0.3137335 ,\n",
              "        0.01357162,  0.34029207, -0.09313084,  0.32418075, -0.31205365,\n",
              "        0.28396633,  0.07192098,  0.05433726, -0.01472783,  0.33645254,\n",
              "        0.07248655, -0.08208973,  0.01393723,  0.12386625,  0.15757512,\n",
              "       -0.14884645,  0.10168994, -0.03410534,  0.2577154 ,  0.33500406,\n",
              "        0.27553457, -0.08161163,  0.21134137, -0.1497484 , -0.2811087 ,\n",
              "        0.04791761, -0.09862956,  0.17300828,  0.0124086 ,  0.4005552 ,\n",
              "        0.15210798,  0.09255197,  0.15856631,  0.31438917,  0.06899797,\n",
              "        0.3484719 ,  0.17530364,  0.36675692,  0.12165785, -0.04023112,\n",
              "       -0.00296432,  0.10977845,  0.02612488,  0.00143346,  0.1411011 ,\n",
              "        0.12596154, -0.18160751, -0.0446845 , -0.02627142, -0.00643022,\n",
              "        0.20577648,  0.13238543, -0.22184819, -0.01355466,  0.1923597 ,\n",
              "        0.21574496,  0.08742964,  0.36554936,  0.04294087,  0.196236  ,\n",
              "        0.34486085], dtype=float32)"
            ]
          },
          "metadata": {},
          "execution_count": 33
        }
      ]
    },
    {
      "cell_type": "markdown",
      "source": [
        "Quanto mais um modelo está se aproximando de um resultado indesejado maior é seu viese, e quanto mais próximo ele estiver do valor desejado menor será ele. Portanto o pesos_da_camada_dense[1] é o viese do nosso modelo"
      ],
      "metadata": {
        "id": "tiiWyPyc25JL"
      }
    },
    {
      "cell_type": "code",
      "source": [
        "vieses_da_camada_dense =  modelo.layers[1].get_weights()[1]\n",
        "vieses_da_camada_dense"
      ],
      "metadata": {
        "colab": {
          "base_uri": "https://localhost:8080/"
        },
        "id": "T_FqxgtM1sIB",
        "outputId": "ea89586f-8662-45b1-85ee-5e770a47f9af"
      },
      "execution_count": null,
      "outputs": [
        {
          "output_type": "execute_result",
          "data": {
            "text/plain": [
              "array([ 0.16182603,  0.03688628,  0.13780706,  0.22594665,  0.15565048,\n",
              "       -0.23148802, -0.06149311,  0.2545399 , -0.01428161,  0.05093638,\n",
              "        0.16909991,  0.09163439,  0.14832845,  0.02725017,  0.29016957,\n",
              "        0.28512403, -0.01537404,  0.07361871,  0.10497025, -0.22086516,\n",
              "        0.14939477,  0.28539696, -0.24988167,  0.03879045, -0.00729059,\n",
              "        0.11980738,  0.41692495,  0.21892862,  0.3971855 ,  0.25690266,\n",
              "       -0.19380185,  0.2154763 , -0.278956  ,  0.1906562 ,  0.00944658,\n",
              "        0.19010025, -0.01757498, -0.00593794,  0.1042228 ,  0.02439768,\n",
              "       -0.00776927,  0.2633677 , -0.01390479, -0.00738751,  0.05972525,\n",
              "        0.01035678,  0.16632196,  0.18961278, -0.16156466,  0.15662615,\n",
              "        0.32435435, -0.3617877 ,  0.2043934 ,  0.24929337,  0.05575561,\n",
              "        0.13614665,  0.02808714,  0.52822584,  0.0372765 ,  0.26277038,\n",
              "       -0.00672182,  0.20496318,  0.22406478,  0.19534732,  0.23803098,\n",
              "       -0.01431564, -0.0356326 , -0.27539814, -0.22407433, -0.21881129,\n",
              "        0.20206752,  0.34685856,  0.18180098,  0.17440249, -0.12275273,\n",
              "        0.16821511,  0.07269317,  0.07389701,  0.04658227,  0.11750118,\n",
              "        0.03722279,  0.08148586,  0.06451439,  0.06063425,  0.26374003,\n",
              "        0.0874088 ,  0.16630821,  0.43824932,  0.26060662, -0.03027084,\n",
              "        0.23292878,  0.24109444,  0.16571124, -0.13961217,  0.038423  ,\n",
              "        0.28996435,  0.05500346,  0.13824709,  0.16139524, -0.04069631,\n",
              "       -0.017003  ,  0.19112489,  0.2403207 ,  0.11293534,  0.25312543,\n",
              "        0.18537807,  0.36151314, -0.0087355 , -0.01636592, -0.02148912,\n",
              "        0.37617347,  0.29292756,  0.16858482,  0.15222985,  0.25097376,\n",
              "        0.24078794, -0.04131518, -0.03839363, -0.0709783 , -0.06296598,\n",
              "        0.18593429,  0.19170013,  0.02659876,  0.33020648,  0.0640875 ,\n",
              "        0.24814436, -0.47062123,  0.25653318, -0.09928679,  0.00970586,\n",
              "       -0.0893349 ,  0.27244672,  0.16345716, -0.31039393, -0.08637512,\n",
              "        0.40356246,  0.17707022,  0.17306297,  0.15246883, -0.03567546,\n",
              "       -0.01768294,  0.2120885 , -0.01676123, -0.07125715, -0.12772223,\n",
              "       -0.01178218,  0.08735569, -0.005712  , -0.12254243, -0.06301399,\n",
              "        0.2525799 , -0.00858438, -0.00791095, -0.03647846,  0.16300723,\n",
              "        0.12749769,  0.20706679,  0.07241709,  0.2327675 , -0.1281647 ,\n",
              "        0.16269152,  0.26761198,  0.02587009, -0.02074203, -0.00075326,\n",
              "        0.2067916 , -0.02185274, -0.04140168,  0.46120423,  0.2633412 ,\n",
              "       -0.01423111,  0.1518691 , -0.03776347,  0.21128006,  0.2582473 ,\n",
              "       -0.01148002,  0.20650731, -0.21079674, -0.01382817, -0.00904994,\n",
              "       -0.14094502,  0.38498643, -0.12168755,  0.21774633,  0.22676662,\n",
              "       -0.02148687,  0.22851996,  0.03914842, -0.1954277 ,  0.26160124,\n",
              "        0.37992504, -0.14617024, -0.00481733,  0.02248499, -0.3137335 ,\n",
              "        0.01357162,  0.34029207, -0.09313084,  0.32418075, -0.31205365,\n",
              "        0.28396633,  0.07192098,  0.05433726, -0.01472783,  0.33645254,\n",
              "        0.07248655, -0.08208973,  0.01393723,  0.12386625,  0.15757512,\n",
              "       -0.14884645,  0.10168994, -0.03410534,  0.2577154 ,  0.33500406,\n",
              "        0.27553457, -0.08161163,  0.21134137, -0.1497484 , -0.2811087 ,\n",
              "        0.04791761, -0.09862956,  0.17300828,  0.0124086 ,  0.4005552 ,\n",
              "        0.15210798,  0.09255197,  0.15856631,  0.31438917,  0.06899797,\n",
              "        0.3484719 ,  0.17530364,  0.36675692,  0.12165785, -0.04023112,\n",
              "       -0.00296432,  0.10977845,  0.02612488,  0.00143346,  0.1411011 ,\n",
              "        0.12596154, -0.18160751, -0.0446845 , -0.02627142, -0.00643022,\n",
              "        0.20577648,  0.13238543, -0.22184819, -0.01355466,  0.1923597 ,\n",
              "        0.21574496,  0.08742964,  0.36554936,  0.04294087,  0.196236  ,\n",
              "        0.34486085], dtype=float32)"
            ]
          },
          "metadata": {},
          "execution_count": 34
        }
      ]
    },
    {
      "cell_type": "markdown",
      "source": [
        "## Dois problemas clássicos de redes neurais"
      ],
      "metadata": {
        "id": "93UaUlnmGPUI"
      }
    },
    {
      "cell_type": "markdown",
      "source": [
        "####Determinação dos valores dos pesos e vieses"
      ],
      "metadata": {
        "id": "CJ3c1bC84vkG"
      }
    },
    {
      "cell_type": "markdown",
      "source": [
        "Vamos comecar testando se os pesos fossem começados com zeros"
      ],
      "metadata": {
        "id": "78pU5CeO5rUJ"
      }
    },
    {
      "cell_type": "code",
      "source": [
        "tamanho_da_camada_dense = pesos_da_camada_dense.shape\n",
        "tamanho_da_camada_dense"
      ],
      "metadata": {
        "id": "MsZKQQM73bQ3",
        "colab": {
          "base_uri": "https://localhost:8080/"
        },
        "outputId": "1c571203-c4e9-4e50-9d61-fde5301abc9f"
      },
      "execution_count": null,
      "outputs": [
        {
          "output_type": "execute_result",
          "data": {
            "text/plain": [
              "(784, 256)"
            ]
          },
          "metadata": {},
          "execution_count": 35
        }
      ]
    },
    {
      "cell_type": "code",
      "source": [
        "pesos_da_camada_dense_zerados = np.zeros(tamanho_da_camada_dense)\n",
        "pesos_da_camada_dense_zerados"
      ],
      "metadata": {
        "colab": {
          "base_uri": "https://localhost:8080/"
        },
        "id": "JTnX16BI59Im",
        "outputId": "a6490645-7da4-4976-aaf5-c83ac15911bd"
      },
      "execution_count": null,
      "outputs": [
        {
          "output_type": "execute_result",
          "data": {
            "text/plain": [
              "array([[0., 0., 0., ..., 0., 0., 0.],\n",
              "       [0., 0., 0., ..., 0., 0., 0.],\n",
              "       [0., 0., 0., ..., 0., 0., 0.],\n",
              "       ...,\n",
              "       [0., 0., 0., ..., 0., 0., 0.],\n",
              "       [0., 0., 0., ..., 0., 0., 0.],\n",
              "       [0., 0., 0., ..., 0., 0., 0.]])"
            ]
          },
          "metadata": {},
          "execution_count": 36
        }
      ]
    },
    {
      "cell_type": "markdown",
      "source": [
        "Queremos substituir esse array no modelo com o método set_weigths()\n",
        "no entanto precisamos passar os vieses também"
      ],
      "metadata": {
        "id": "5MfToyyp-qhT"
      }
    },
    {
      "cell_type": "code",
      "source": [
        "modelo.layers[1].set_weights([pesos_da_camada_dense_zerados, vieses_da_camada_dense])"
      ],
      "metadata": {
        "id": "uVoQIfrd9xDp"
      },
      "execution_count": null,
      "outputs": []
    },
    {
      "cell_type": "code",
      "source": [
        "modelo.layers[1].get_weights()"
      ],
      "metadata": {
        "colab": {
          "base_uri": "https://localhost:8080/"
        },
        "id": "5gpyoi0X_vEc",
        "outputId": "ef738b74-dae2-4cf5-9436-c2456c1f6f28"
      },
      "execution_count": null,
      "outputs": [
        {
          "output_type": "execute_result",
          "data": {
            "text/plain": [
              "[array([[0., 0., 0., ..., 0., 0., 0.],\n",
              "        [0., 0., 0., ..., 0., 0., 0.],\n",
              "        [0., 0., 0., ..., 0., 0., 0.],\n",
              "        ...,\n",
              "        [0., 0., 0., ..., 0., 0., 0.],\n",
              "        [0., 0., 0., ..., 0., 0., 0.],\n",
              "        [0., 0., 0., ..., 0., 0., 0.]], dtype=float32),\n",
              " array([ 0.16182603,  0.03688628,  0.13780706,  0.22594665,  0.15565048,\n",
              "        -0.23148802, -0.06149311,  0.2545399 , -0.01428161,  0.05093638,\n",
              "         0.16909991,  0.09163439,  0.14832845,  0.02725017,  0.29016957,\n",
              "         0.28512403, -0.01537404,  0.07361871,  0.10497025, -0.22086516,\n",
              "         0.14939477,  0.28539696, -0.24988167,  0.03879045, -0.00729059,\n",
              "         0.11980738,  0.41692495,  0.21892862,  0.3971855 ,  0.25690266,\n",
              "        -0.19380185,  0.2154763 , -0.278956  ,  0.1906562 ,  0.00944658,\n",
              "         0.19010025, -0.01757498, -0.00593794,  0.1042228 ,  0.02439768,\n",
              "        -0.00776927,  0.2633677 , -0.01390479, -0.00738751,  0.05972525,\n",
              "         0.01035678,  0.16632196,  0.18961278, -0.16156466,  0.15662615,\n",
              "         0.32435435, -0.3617877 ,  0.2043934 ,  0.24929337,  0.05575561,\n",
              "         0.13614665,  0.02808714,  0.52822584,  0.0372765 ,  0.26277038,\n",
              "        -0.00672182,  0.20496318,  0.22406478,  0.19534732,  0.23803098,\n",
              "        -0.01431564, -0.0356326 , -0.27539814, -0.22407433, -0.21881129,\n",
              "         0.20206752,  0.34685856,  0.18180098,  0.17440249, -0.12275273,\n",
              "         0.16821511,  0.07269317,  0.07389701,  0.04658227,  0.11750118,\n",
              "         0.03722279,  0.08148586,  0.06451439,  0.06063425,  0.26374003,\n",
              "         0.0874088 ,  0.16630821,  0.43824932,  0.26060662, -0.03027084,\n",
              "         0.23292878,  0.24109444,  0.16571124, -0.13961217,  0.038423  ,\n",
              "         0.28996435,  0.05500346,  0.13824709,  0.16139524, -0.04069631,\n",
              "        -0.017003  ,  0.19112489,  0.2403207 ,  0.11293534,  0.25312543,\n",
              "         0.18537807,  0.36151314, -0.0087355 , -0.01636592, -0.02148912,\n",
              "         0.37617347,  0.29292756,  0.16858482,  0.15222985,  0.25097376,\n",
              "         0.24078794, -0.04131518, -0.03839363, -0.0709783 , -0.06296598,\n",
              "         0.18593429,  0.19170013,  0.02659876,  0.33020648,  0.0640875 ,\n",
              "         0.24814436, -0.47062123,  0.25653318, -0.09928679,  0.00970586,\n",
              "        -0.0893349 ,  0.27244672,  0.16345716, -0.31039393, -0.08637512,\n",
              "         0.40356246,  0.17707022,  0.17306297,  0.15246883, -0.03567546,\n",
              "        -0.01768294,  0.2120885 , -0.01676123, -0.07125715, -0.12772223,\n",
              "        -0.01178218,  0.08735569, -0.005712  , -0.12254243, -0.06301399,\n",
              "         0.2525799 , -0.00858438, -0.00791095, -0.03647846,  0.16300723,\n",
              "         0.12749769,  0.20706679,  0.07241709,  0.2327675 , -0.1281647 ,\n",
              "         0.16269152,  0.26761198,  0.02587009, -0.02074203, -0.00075326,\n",
              "         0.2067916 , -0.02185274, -0.04140168,  0.46120423,  0.2633412 ,\n",
              "        -0.01423111,  0.1518691 , -0.03776347,  0.21128006,  0.2582473 ,\n",
              "        -0.01148002,  0.20650731, -0.21079674, -0.01382817, -0.00904994,\n",
              "        -0.14094502,  0.38498643, -0.12168755,  0.21774633,  0.22676662,\n",
              "        -0.02148687,  0.22851996,  0.03914842, -0.1954277 ,  0.26160124,\n",
              "         0.37992504, -0.14617024, -0.00481733,  0.02248499, -0.3137335 ,\n",
              "         0.01357162,  0.34029207, -0.09313084,  0.32418075, -0.31205365,\n",
              "         0.28396633,  0.07192098,  0.05433726, -0.01472783,  0.33645254,\n",
              "         0.07248655, -0.08208973,  0.01393723,  0.12386625,  0.15757512,\n",
              "        -0.14884645,  0.10168994, -0.03410534,  0.2577154 ,  0.33500406,\n",
              "         0.27553457, -0.08161163,  0.21134137, -0.1497484 , -0.2811087 ,\n",
              "         0.04791761, -0.09862956,  0.17300828,  0.0124086 ,  0.4005552 ,\n",
              "         0.15210798,  0.09255197,  0.15856631,  0.31438917,  0.06899797,\n",
              "         0.3484719 ,  0.17530364,  0.36675692,  0.12165785, -0.04023112,\n",
              "        -0.00296432,  0.10977845,  0.02612488,  0.00143346,  0.1411011 ,\n",
              "         0.12596154, -0.18160751, -0.0446845 , -0.02627142, -0.00643022,\n",
              "         0.20577648,  0.13238543, -0.22184819, -0.01355466,  0.1923597 ,\n",
              "         0.21574496,  0.08742964,  0.36554936,  0.04294087,  0.196236  ,\n",
              "         0.34486085], dtype=float32)]"
            ]
          },
          "metadata": {},
          "execution_count": 38
        }
      ]
    },
    {
      "cell_type": "markdown",
      "source": [
        "O que queríamos fazer, deixar um array zerado e outro com os valores originais dos vieses\n",
        "Agora vamos testas o modelo com esses pesos"
      ],
      "metadata": {
        "id": "2uFPvLSt__ie"
      }
    },
    {
      "cell_type": "code",
      "source": [
        "modelo.compile(optimizer='adam', loss='sparse_categorical_crossentropy', metrics=['accuracy'])\n",
        "historico = modelo.fit(imagens_treino, identificacoes_treino, epochs=5, validation_split=0.2)"
      ],
      "metadata": {
        "colab": {
          "base_uri": "https://localhost:8080/"
        },
        "id": "MCypETj9_2mD",
        "outputId": "84af5841-bd71-405a-968a-d2b12d2fcf8d"
      },
      "execution_count": null,
      "outputs": [
        {
          "output_type": "stream",
          "name": "stdout",
          "text": [
            "Epoch 1/5\n",
            "1500/1500 [==============================] - 5s 3ms/step - loss: 0.5035 - accuracy: 0.8214 - val_loss: 0.4276 - val_accuracy: 0.8500\n",
            "Epoch 2/5\n",
            "1500/1500 [==============================] - 5s 3ms/step - loss: 0.3820 - accuracy: 0.8615 - val_loss: 0.4095 - val_accuracy: 0.8529\n",
            "Epoch 3/5\n",
            "1500/1500 [==============================] - 5s 3ms/step - loss: 0.3431 - accuracy: 0.8742 - val_loss: 0.3586 - val_accuracy: 0.8698\n",
            "Epoch 4/5\n",
            "1500/1500 [==============================] - 5s 3ms/step - loss: 0.3206 - accuracy: 0.8825 - val_loss: 0.3381 - val_accuracy: 0.8781\n",
            "Epoch 5/5\n",
            "1500/1500 [==============================] - 5s 3ms/step - loss: 0.3003 - accuracy: 0.8900 - val_loss: 0.3391 - val_accuracy: 0.8792\n"
          ]
        }
      ]
    },
    {
      "cell_type": "code",
      "source": [
        "plt.plot(historico.history['accuracy'])\n",
        "plt.plot(historico.history['val_accuracy'])\n",
        "plt.title('acurácia por épocas')\n",
        "plt.xlabel('épocas')\n",
        "plt.ylabel('acurácia')\n",
        "plt.legend(['treino','avaliação'])"
      ],
      "metadata": {
        "colab": {
          "base_uri": "https://localhost:8080/"
        },
        "id": "LAgxPD-1BCvI",
        "outputId": "42a92e60-cee7-4579-b4d0-21a3b7a212ee"
      },
      "execution_count": null,
      "outputs": [
        {
          "output_type": "execute_result",
          "data": {
            "text/plain": [
              "<matplotlib.legend.Legend at 0x7fe6b0524c10>"
            ]
          },
          "metadata": {},
          "execution_count": 40
        },
        {
          "output_type": "display_data",
          "data": {
            "text/plain": [
              "<Figure size 432x288 with 1 Axes>"
            ],
            "image/png": "[encoded data removed]"
          },
          "metadata": {
            "needs_background": "light"
          }
        }
      ]
    },
    {
      "cell_type": "code",
      "source": [
        "plt.plot(historico.history['loss'])\n",
        "plt.plot(historico.history['val_loss'])\n",
        "plt.title('perda por épocas')\n",
        "plt.xlabel('épocas')\n",
        "plt.ylabel('perda')\n",
        "plt.legend(['treino','avaliação'])"
      ],
      "metadata": {
        "colab": {
          "base_uri": "https://localhost:8080/"
        },
        "id": "5y9EzP2XCBlb",
        "outputId": "84292fa4-1f84-4274-dae2-75147a6fa7d6"
      },
      "execution_count": null,
      "outputs": [
        {
          "output_type": "execute_result",
          "data": {
            "text/plain": [
              "<matplotlib.legend.Legend at 0x7fe6b04d4ed0>"
            ]
          },
          "metadata": {},
          "execution_count": 41
        },
        {
          "output_type": "display_data",
          "data": {
            "text/plain": [
              "<Figure size 432x288 with 1 Axes>"
            ],
            "image/png": "[encoded data removed]"
          },
          "metadata": {
            "needs_background": "light"
          }
        }
      ]
    },
    {
      "cell_type": "markdown",
      "source": [
        "Como foi possível notar, incializar os pesos com zero não é a melhor opção, sendo assim podemos incializar os pesos com quaiquer números, ou seja, com números aleatórios"
      ],
      "metadata": {
        "id": "J2RfU_A0DHox"
      }
    },
    {
      "cell_type": "code",
      "source": [
        "pesos_da_camada_dense_aleatorios = np.random.rand(784, 256)\n",
        "pesos_da_camada_dense_aleatorios"
      ],
      "metadata": {
        "colab": {
          "base_uri": "https://localhost:8080/"
        },
        "id": "idv2GSrpCobL",
        "outputId": "690a198d-ab62-4687-ae0c-7a7fb97fe4ea"
      },
      "execution_count": null,
      "outputs": [
        {
          "output_type": "execute_result",
          "data": {
            "text/plain": [
              "array([[0.41481761, 0.55262583, 0.02302169, ..., 0.19432277, 0.32488655,\n",
              "        0.75177367],\n",
              "       [0.70991132, 0.65943662, 0.4634881 , ..., 0.89184534, 0.69302684,\n",
              "        0.34664145],\n",
              "       [0.1309669 , 0.31778506, 0.3645839 , ..., 0.88795371, 0.27973996,\n",
              "        0.42173053],\n",
              "       ...,\n",
              "       [0.95656839, 0.06192709, 0.24130215, ..., 0.36569645, 0.56103223,\n",
              "        0.75105331],\n",
              "       [0.23134442, 0.66054237, 0.36732492, ..., 0.75601495, 0.95871946,\n",
              "        0.89345879],\n",
              "       [0.46064939, 0.97378368, 0.02845366, ..., 0.79543785, 0.08475084,\n",
              "        0.97207487]])"
            ]
          },
          "metadata": {},
          "execution_count": 42
        }
      ]
    },
    {
      "cell_type": "markdown",
      "source": [
        "Agora podemos ver que os pessos estão de forma aleatória"
      ],
      "metadata": {
        "id": "VQuZ8zQ8Eu_-"
      }
    },
    {
      "cell_type": "code",
      "source": [
        "modelo.layers[1].set_weights([pesos_da_camada_dense_aleatorios, vieses_da_camada_dense])\n",
        "modelo.layers[1].get_weights()"
      ],
      "metadata": {
        "colab": {
          "base_uri": "https://localhost:8080/"
        },
        "id": "D5UzOt9FEKXH",
        "outputId": "887b50ea-0c96-4fbd-82ab-ef9e0d3ac050"
      },
      "execution_count": null,
      "outputs": [
        {
          "output_type": "execute_result",
          "data": {
            "text/plain": [
              "[array([[0.4148176 , 0.55262583, 0.02302169, ..., 0.19432276, 0.32488656,\n",
              "         0.75177366],\n",
              "        [0.70991135, 0.65943664, 0.4634881 , ..., 0.89184535, 0.69302684,\n",
              "         0.34664145],\n",
              "        [0.1309669 , 0.31778505, 0.3645839 , ..., 0.8879537 , 0.27973995,\n",
              "         0.42173052],\n",
              "        ...,\n",
              "        [0.95656836, 0.06192709, 0.24130215, ..., 0.36569646, 0.56103224,\n",
              "         0.75105333],\n",
              "        [0.23134442, 0.66054237, 0.36732492, ..., 0.75601494, 0.95871943,\n",
              "         0.8934588 ],\n",
              "        [0.4606494 , 0.9737837 , 0.02845366, ..., 0.7954379 , 0.08475084,\n",
              "         0.97207487]], dtype=float32),\n",
              " array([ 0.16182603,  0.03688628,  0.13780706,  0.22594665,  0.15565048,\n",
              "        -0.23148802, -0.06149311,  0.2545399 , -0.01428161,  0.05093638,\n",
              "         0.16909991,  0.09163439,  0.14832845,  0.02725017,  0.29016957,\n",
              "         0.28512403, -0.01537404,  0.07361871,  0.10497025, -0.22086516,\n",
              "         0.14939477,  0.28539696, -0.24988167,  0.03879045, -0.00729059,\n",
              "         0.11980738,  0.41692495,  0.21892862,  0.3971855 ,  0.25690266,\n",
              "        -0.19380185,  0.2154763 , -0.278956  ,  0.1906562 ,  0.00944658,\n",
              "         0.19010025, -0.01757498, -0.00593794,  0.1042228 ,  0.02439768,\n",
              "        -0.00776927,  0.2633677 , -0.01390479, -0.00738751,  0.05972525,\n",
              "         0.01035678,  0.16632196,  0.18961278, -0.16156466,  0.15662615,\n",
              "         0.32435435, -0.3617877 ,  0.2043934 ,  0.24929337,  0.05575561,\n",
              "         0.13614665,  0.02808714,  0.52822584,  0.0372765 ,  0.26277038,\n",
              "        -0.00672182,  0.20496318,  0.22406478,  0.19534732,  0.23803098,\n",
              "        -0.01431564, -0.0356326 , -0.27539814, -0.22407433, -0.21881129,\n",
              "         0.20206752,  0.34685856,  0.18180098,  0.17440249, -0.12275273,\n",
              "         0.16821511,  0.07269317,  0.07389701,  0.04658227,  0.11750118,\n",
              "         0.03722279,  0.08148586,  0.06451439,  0.06063425,  0.26374003,\n",
              "         0.0874088 ,  0.16630821,  0.43824932,  0.26060662, -0.03027084,\n",
              "         0.23292878,  0.24109444,  0.16571124, -0.13961217,  0.038423  ,\n",
              "         0.28996435,  0.05500346,  0.13824709,  0.16139524, -0.04069631,\n",
              "        -0.017003  ,  0.19112489,  0.2403207 ,  0.11293534,  0.25312543,\n",
              "         0.18537807,  0.36151314, -0.0087355 , -0.01636592, -0.02148912,\n",
              "         0.37617347,  0.29292756,  0.16858482,  0.15222985,  0.25097376,\n",
              "         0.24078794, -0.04131518, -0.03839363, -0.0709783 , -0.06296598,\n",
              "         0.18593429,  0.19170013,  0.02659876,  0.33020648,  0.0640875 ,\n",
              "         0.24814436, -0.47062123,  0.25653318, -0.09928679,  0.00970586,\n",
              "        -0.0893349 ,  0.27244672,  0.16345716, -0.31039393, -0.08637512,\n",
              "         0.40356246,  0.17707022,  0.17306297,  0.15246883, -0.03567546,\n",
              "        -0.01768294,  0.2120885 , -0.01676123, -0.07125715, -0.12772223,\n",
              "        -0.01178218,  0.08735569, -0.005712  , -0.12254243, -0.06301399,\n",
              "         0.2525799 , -0.00858438, -0.00791095, -0.03647846,  0.16300723,\n",
              "         0.12749769,  0.20706679,  0.07241709,  0.2327675 , -0.1281647 ,\n",
              "         0.16269152,  0.26761198,  0.02587009, -0.02074203, -0.00075326,\n",
              "         0.2067916 , -0.02185274, -0.04140168,  0.46120423,  0.2633412 ,\n",
              "        -0.01423111,  0.1518691 , -0.03776347,  0.21128006,  0.2582473 ,\n",
              "        -0.01148002,  0.20650731, -0.21079674, -0.01382817, -0.00904994,\n",
              "        -0.14094502,  0.38498643, -0.12168755,  0.21774633,  0.22676662,\n",
              "        -0.02148687,  0.22851996,  0.03914842, -0.1954277 ,  0.26160124,\n",
              "         0.37992504, -0.14617024, -0.00481733,  0.02248499, -0.3137335 ,\n",
              "         0.01357162,  0.34029207, -0.09313084,  0.32418075, -0.31205365,\n",
              "         0.28396633,  0.07192098,  0.05433726, -0.01472783,  0.33645254,\n",
              "         0.07248655, -0.08208973,  0.01393723,  0.12386625,  0.15757512,\n",
              "        -0.14884645,  0.10168994, -0.03410534,  0.2577154 ,  0.33500406,\n",
              "         0.27553457, -0.08161163,  0.21134137, -0.1497484 , -0.2811087 ,\n",
              "         0.04791761, -0.09862956,  0.17300828,  0.0124086 ,  0.4005552 ,\n",
              "         0.15210798,  0.09255197,  0.15856631,  0.31438917,  0.06899797,\n",
              "         0.3484719 ,  0.17530364,  0.36675692,  0.12165785, -0.04023112,\n",
              "        -0.00296432,  0.10977845,  0.02612488,  0.00143346,  0.1411011 ,\n",
              "         0.12596154, -0.18160751, -0.0446845 , -0.02627142, -0.00643022,\n",
              "         0.20577648,  0.13238543, -0.22184819, -0.01355466,  0.1923597 ,\n",
              "         0.21574496,  0.08742964,  0.36554936,  0.04294087,  0.196236  ,\n",
              "         0.34486085], dtype=float32)]"
            ]
          },
          "metadata": {},
          "execution_count": 43
        }
      ]
    },
    {
      "cell_type": "code",
      "source": [
        "modelo.compile(optimizer='adam', loss='sparse_categorical_crossentropy', metrics=['accuracy'])\n",
        "historico = modelo.fit(imagens_treino, identificacoes_treino, epochs=5, validation_split=0.2)"
      ],
      "metadata": {
        "colab": {
          "base_uri": "https://localhost:8080/"
        },
        "id": "KuJcL2ShFIkH",
        "outputId": "6d54add8-1f2f-4231-8a4d-c0eac9cb59bb"
      },
      "execution_count": null,
      "outputs": [
        {
          "output_type": "stream",
          "name": "stdout",
          "text": [
            "Epoch 1/5\n",
            "1500/1500 [==============================] - 5s 3ms/step - loss: 19.0093 - accuracy: 0.6677 - val_loss: 3.8676 - val_accuracy: 0.7088\n",
            "Epoch 2/5\n",
            "1500/1500 [==============================] - 5s 3ms/step - loss: 3.3699 - accuracy: 0.7486 - val_loss: 3.8564 - val_accuracy: 0.7363\n",
            "Epoch 3/5\n",
            "1500/1500 [==============================] - 5s 3ms/step - loss: 3.9028 - accuracy: 0.7573 - val_loss: 5.5785 - val_accuracy: 0.6693\n",
            "Epoch 4/5\n",
            "1500/1500 [==============================] - 5s 3ms/step - loss: 3.5222 - accuracy: 0.7769 - val_loss: 2.4739 - val_accuracy: 0.8017\n",
            "Epoch 5/5\n",
            "1500/1500 [==============================] - 5s 3ms/step - loss: 3.6100 - accuracy: 0.7803 - val_loss: 2.8210 - val_accuracy: 0.7897\n"
          ]
        }
      ]
    },
    {
      "cell_type": "code",
      "source": [
        "plt.plot(historico.history['accuracy'])\n",
        "plt.plot(historico.history['val_accuracy'])\n",
        "plt.title('acurácia por épocas')\n",
        "plt.xlabel('épocas')\n",
        "plt.ylabel('acurácia')\n",
        "plt.legend(['treino','avaliação'])"
      ],
      "metadata": {
        "colab": {
          "base_uri": "https://localhost:8080/"
        },
        "id": "vjFYV8tFFWvJ",
        "outputId": "6d321873-faf1-44df-d77c-061b61a7e364"
      },
      "execution_count": null,
      "outputs": [
        {
          "output_type": "execute_result",
          "data": {
            "text/plain": [
              "<matplotlib.legend.Legend at 0x7fe6b02c1f50>"
            ]
          },
          "metadata": {},
          "execution_count": 45
        },
        {
          "output_type": "display_data",
          "data": {
            "text/plain": [
              "<Figure size 432x288 with 1 Axes>"
            ],
            "image/png": "[encoded data removed]"
          },
          "metadata": {
            "needs_background": "light"
          }
        }
      ]
    },
    {
      "cell_type": "code",
      "source": [
        "plt.plot(historico.history['loss'])\n",
        "plt.plot(historico.history['val_loss'])\n",
        "plt.title('perda por épocas')\n",
        "plt.xlabel('épocas')\n",
        "plt.ylabel('perda')\n",
        "plt.legend(['treino','avaliação'])"
      ],
      "metadata": {
        "colab": {
          "base_uri": "https://localhost:8080/"
        },
        "id": "fWVTu6VlFkb-",
        "outputId": "b4ee899a-7cbe-4e2f-a6ea-eec4c2785bda"
      },
      "execution_count": null,
      "outputs": [
        {
          "output_type": "execute_result",
          "data": {
            "text/plain": [
              "<matplotlib.legend.Legend at 0x7fe6a935cc10>"
            ]
          },
          "metadata": {},
          "execution_count": 46
        },
        {
          "output_type": "display_data",
          "data": {
            "text/plain": [
              "<Figure size 432x288 with 1 Axes>"
            ],
            "image/png": "[encoded data removed]"
          },
          "metadata": {
            "needs_background": "light"
          }
        }
      ]
    },
    {
      "cell_type": "markdown",
      "source": [
        "Com números aleatórios piorou a situação"
      ],
      "metadata": {
        "id": "Tn3GKjuQGXPv"
      }
    },
    {
      "cell_type": "markdown",
      "source": [
        "Entendento o que o keras está fazendo para colocar os valores dos pesos"
      ],
      "metadata": {
        "id": "el6U0P7ZG_DT"
      }
    },
    {
      "cell_type": "code",
      "source": [
        "modelo.get_config()"
      ],
      "metadata": {
        "colab": {
          "base_uri": "https://localhost:8080/"
        },
        "id": "vVZnXGhTFopM",
        "outputId": "99105410-4b62-470b-f2c3-a83d63afbbfe"
      },
      "execution_count": null,
      "outputs": [
        {
          "output_type": "execute_result",
          "data": {
            "text/plain": [
              "{'layers': [{'class_name': 'InputLayer',\n",
              "   'config': {'batch_input_shape': (None, 28, 28),\n",
              "    'dtype': 'float32',\n",
              "    'name': 'flatten_5_input',\n",
              "    'ragged': False,\n",
              "    'sparse': False}},\n",
              "  {'class_name': 'Flatten',\n",
              "   'config': {'batch_input_shape': (None, 28, 28),\n",
              "    'data_format': 'channels_last',\n",
              "    'dtype': 'float32',\n",
              "    'name': 'flatten_5',\n",
              "    'trainable': True}},\n",
              "  {'class_name': 'Dense',\n",
              "   'config': {'activation': 'relu',\n",
              "    'activity_regularizer': None,\n",
              "    'bias_constraint': None,\n",
              "    'bias_initializer': {'class_name': 'Zeros', 'config': {}},\n",
              "    'bias_regularizer': None,\n",
              "    'dtype': 'float32',\n",
              "    'kernel_constraint': None,\n",
              "    'kernel_initializer': {'class_name': 'GlorotUniform',\n",
              "     'config': {'seed': None}},\n",
              "    'kernel_regularizer': None,\n",
              "    'name': 'dense_10',\n",
              "    'trainable': True,\n",
              "    'units': 256,\n",
              "    'use_bias': True}},\n",
              "  {'class_name': 'Dense',\n",
              "   'config': {'activation': 'softmax',\n",
              "    'activity_regularizer': None,\n",
              "    'bias_constraint': None,\n",
              "    'bias_initializer': {'class_name': 'Zeros', 'config': {}},\n",
              "    'bias_regularizer': None,\n",
              "    'dtype': 'float32',\n",
              "    'kernel_constraint': None,\n",
              "    'kernel_initializer': {'class_name': 'GlorotUniform',\n",
              "     'config': {'seed': None}},\n",
              "    'kernel_regularizer': None,\n",
              "    'name': 'dense_11',\n",
              "    'trainable': True,\n",
              "    'units': 10,\n",
              "    'use_bias': True}}],\n",
              " 'name': 'sequential_5'}"
            ]
          },
          "metadata": {},
          "execution_count": 47
        }
      ]
    },
    {
      "cell_type": "markdown",
      "source": [
        "'kernel_initializer' é o lugar que informa o que está acontecendo com os pesos\n",
        "o 'GlorotUniform' é um algorítmo que não coloca os pesos como zero e nem aleatórios, é um meio termo que evita os problemas que estavamos tendo"
      ],
      "metadata": {
        "id": "SaKSutx3Hh4z"
      }
    },
    {
      "cell_type": "markdown",
      "source": [
        "### zerando os vieses"
      ],
      "metadata": {
        "id": "lEDv9zz9MVDQ"
      }
    },
    {
      "cell_type": "code",
      "source": [
        "shape_vieses_da_camada_dense = vieses_da_camada_dense.shape\n",
        "shape_vieses_da_camada_dense"
      ],
      "metadata": {
        "colab": {
          "base_uri": "https://localhost:8080/"
        },
        "id": "i-lKD9siG85Y",
        "outputId": "96bc97f5-6b26-400d-ff95-56ad460af3a9"
      },
      "execution_count": null,
      "outputs": [
        {
          "output_type": "execute_result",
          "data": {
            "text/plain": [
              "(256,)"
            ]
          },
          "metadata": {},
          "execution_count": 48
        }
      ]
    },
    {
      "cell_type": "code",
      "source": [
        "vieses_da_camada_dense_zerados = np.zeros(shape_vieses_da_camada_dense)\n",
        "vieses_da_camada_dense_zerados"
      ],
      "metadata": {
        "colab": {
          "base_uri": "https://localhost:8080/"
        },
        "id": "g9HZ4fJ-MY6A",
        "outputId": "a73ae9cf-184e-4d0c-b024-762243f6e61c"
      },
      "execution_count": null,
      "outputs": [
        {
          "output_type": "execute_result",
          "data": {
            "text/plain": [
              "array([0., 0., 0., 0., 0., 0., 0., 0., 0., 0., 0., 0., 0., 0., 0., 0., 0.,\n",
              "       0., 0., 0., 0., 0., 0., 0., 0., 0., 0., 0., 0., 0., 0., 0., 0., 0.,\n",
              "       0., 0., 0., 0., 0., 0., 0., 0., 0., 0., 0., 0., 0., 0., 0., 0., 0.,\n",
              "       0., 0., 0., 0., 0., 0., 0., 0., 0., 0., 0., 0., 0., 0., 0., 0., 0.,\n",
              "       0., 0., 0., 0., 0., 0., 0., 0., 0., 0., 0., 0., 0., 0., 0., 0., 0.,\n",
              "       0., 0., 0., 0., 0., 0., 0., 0., 0., 0., 0., 0., 0., 0., 0., 0., 0.,\n",
              "       0., 0., 0., 0., 0., 0., 0., 0., 0., 0., 0., 0., 0., 0., 0., 0., 0.,\n",
              "       0., 0., 0., 0., 0., 0., 0., 0., 0., 0., 0., 0., 0., 0., 0., 0., 0.,\n",
              "       0., 0., 0., 0., 0., 0., 0., 0., 0., 0., 0., 0., 0., 0., 0., 0., 0.,\n",
              "       0., 0., 0., 0., 0., 0., 0., 0., 0., 0., 0., 0., 0., 0., 0., 0., 0.,\n",
              "       0., 0., 0., 0., 0., 0., 0., 0., 0., 0., 0., 0., 0., 0., 0., 0., 0.,\n",
              "       0., 0., 0., 0., 0., 0., 0., 0., 0., 0., 0., 0., 0., 0., 0., 0., 0.,\n",
              "       0., 0., 0., 0., 0., 0., 0., 0., 0., 0., 0., 0., 0., 0., 0., 0., 0.,\n",
              "       0., 0., 0., 0., 0., 0., 0., 0., 0., 0., 0., 0., 0., 0., 0., 0., 0.,\n",
              "       0., 0., 0., 0., 0., 0., 0., 0., 0., 0., 0., 0., 0., 0., 0., 0., 0.,\n",
              "       0.])"
            ]
          },
          "metadata": {},
          "execution_count": 49
        }
      ]
    },
    {
      "cell_type": "markdown",
      "source": [
        "Vamos ver o que acontece quando se tem os pesos zerados e vieses zerados"
      ],
      "metadata": {
        "id": "zQ5TUrhJNGFt"
      }
    },
    {
      "cell_type": "code",
      "source": [
        "modelo.layers[1].set_weights([pesos_da_camada_dense_zerados, vieses_da_camada_dense_zerados])"
      ],
      "metadata": {
        "id": "59xzjp8hMml6"
      },
      "execution_count": null,
      "outputs": []
    },
    {
      "cell_type": "code",
      "source": [
        "modelo.compile(optimizer='adam', loss='sparse_categorical_crossentropy', metrics=['accuracy'])\n",
        "historico = modelo.fit(imagens_treino, identificacoes_treino, epochs=5, validation_split=0.2)"
      ],
      "metadata": {
        "colab": {
          "base_uri": "https://localhost:8080/"
        },
        "id": "rdJ-0K6ENMjl",
        "outputId": "f372d7a3-3e51-4cba-e1db-f23871d472c9"
      },
      "execution_count": null,
      "outputs": [
        {
          "output_type": "stream",
          "name": "stdout",
          "text": [
            "Epoch 1/5\n",
            "1500/1500 [==============================] - 5s 3ms/step - loss: 2.3316 - accuracy: 0.1001 - val_loss: 2.3044 - val_accuracy: 0.0995\n",
            "Epoch 2/5\n",
            "1500/1500 [==============================] - 5s 3ms/step - loss: 2.3031 - accuracy: 0.0975 - val_loss: 2.3028 - val_accuracy: 0.0957\n",
            "Epoch 3/5\n",
            "1500/1500 [==============================] - 5s 3ms/step - loss: 2.3027 - accuracy: 0.0997 - val_loss: 2.3028 - val_accuracy: 0.0995\n",
            "Epoch 4/5\n",
            "1500/1500 [==============================] - 5s 3ms/step - loss: 2.3028 - accuracy: 0.0979 - val_loss: 2.3027 - val_accuracy: 0.0957\n",
            "Epoch 5/5\n",
            "1500/1500 [==============================] - 5s 3ms/step - loss: 2.3028 - accuracy: 0.0981 - val_loss: 2.3027 - val_accuracy: 0.0957\n"
          ]
        }
      ]
    },
    {
      "cell_type": "code",
      "source": [
        "plt.plot(historico.history['accuracy'])\n",
        "plt.plot(historico.history['val_accuracy'])\n",
        "plt.title('acurácia por épocas')\n",
        "plt.xlabel('épocas')\n",
        "plt.ylabel('acurácia')\n",
        "plt.legend(['treino','avaliação'])"
      ],
      "metadata": {
        "colab": {
          "base_uri": "https://localhost:8080/"
        },
        "id": "OGTs0BE2NW93",
        "outputId": "bacd7635-3599-4344-ef2c-05b84ea1061b"
      },
      "execution_count": null,
      "outputs": [
        {
          "output_type": "execute_result",
          "data": {
            "text/plain": [
              "<matplotlib.legend.Legend at 0x7fe6a9205110>"
            ]
          },
          "metadata": {},
          "execution_count": 52
        },
        {
          "output_type": "display_data",
          "data": {
            "text/plain": [
              "<Figure size 432x288 with 1 Axes>"
            ],
            "image/png": "[encoded data removed]"
          },
          "metadata": {
            "needs_background": "light"
          }
        }
      ]
    },
    {
      "cell_type": "code",
      "source": [
        "plt.plot(historico.history['loss'])\n",
        "plt.plot(historico.history['val_loss'])\n",
        "plt.title('perda por épocas')\n",
        "plt.xlabel('épocas')\n",
        "plt.ylabel('perda')\n",
        "plt.legend(['treino','avaliação'])"
      ],
      "metadata": {
        "colab": {
          "base_uri": "https://localhost:8080/"
        },
        "id": "ErB21Q8kNdh0",
        "outputId": "a3101efc-2165-4be3-dc32-cafaffd5d680"
      },
      "execution_count": null,
      "outputs": [
        {
          "output_type": "execute_result",
          "data": {
            "text/plain": [
              "<matplotlib.legend.Legend at 0x7fe6a9176f50>"
            ]
          },
          "metadata": {},
          "execution_count": 53
        },
        {
          "output_type": "display_data",
          "data": {
            "text/plain": [
              "<Figure size 432x288 with 1 Axes>"
            ],
            "image/png": "[encoded data removed]"
          },
          "metadata": {
            "needs_background": "light"
          }
        }
      ]
    },
    {
      "cell_type": "markdown",
      "source": [
        "Sintetizando, os pesos conseguem separar melhor cada classificação de roupa no nosso modelo"
      ],
      "metadata": {
        "id": "UhZflGmWPKeN"
      }
    },
    {
      "cell_type": "markdown",
      "source": [
        "a relu funciona assim:\n",
        "saída = relu(multiplica(entrada, **peso**)+**vies**)\n",
        "por isso não se pode colocar um viés muito grande nem muito pequeno, pois muito grande vai fazer a função ficar muito longe dos dados e muito pequeno irá fazer ela ter um overfit"
      ],
      "metadata": {
        "id": "YIltkhh8RJdE"
      }
    },
    {
      "cell_type": "markdown",
      "source": [
        "Para o inglês:\n",
        "output = activation(dot(input, **kernel**)+**bias**)"
      ],
      "metadata": {
        "id": "IhBx_s12SID7"
      }
    },
    {
      "cell_type": "markdown",
      "source": [
        "##Reduzindo as perdas\n",
        "O Gradiente descendente é um algorítmo que faz com que o modelo encontre o lugar no qual a perda seja a menor possível"
      ],
      "metadata": {
        "id": "QbQH21XavmTO"
      }
    },
    {
      "cell_type": "markdown",
      "source": [
        "Em alusão com a física, se um skatista desce uma rampa ele irá ganhar velocidade, logo existirá um momento linear associado a ele. Se esse momento for muito grande ele irá descer passar do ponto mais baixo e subir novamente, descer... até parar no ponto mais baixo. O contrário acontece se esse momento for pequeno.\n",
        "O mesmo acontece com o nosso modelo para achar o ponto onde se obtém a menor perda"
      ],
      "metadata": {
        "id": "xHFAffsOwiyI"
      }
    },
    {
      "cell_type": "markdown",
      "source": [
        "No entanto não podemos confundir os mínimos locais com o global, portanto devemos usar o gradiente descendente estocástico (introduz aleatóriedade para o algorítmo aumentando a chançe de encontrar o mínimo global), além disso ele deixa o programa mais rápido para achar o mínimo global"
      ],
      "metadata": {
        "id": "ve4fjOeFzlQG"
      }
    },
    {
      "cell_type": "markdown",
      "source": [
        "Lembre-se que estamos usando um otimizador no programa, no entanto ele é o \"adam\" e não o estocástico"
      ],
      "metadata": {
        "id": "sGzi97hm0oKR"
      }
    },
    {
      "cell_type": "code",
      "source": [
        "adam = keras.optimizers.Adam(lr=0.001)\n",
        "modelo.compile(optimizer=adam , loss='sparse_categorical_crossentropy', metrics=['accuracy'])\n",
        "modelo.fit(imagens_treino, identificacoes_treino, epochs=5, validation_split=0.2)"
      ],
      "metadata": {
        "id": "Vg-exWLHNlFH",
        "colab": {
          "base_uri": "https://localhost:8080/"
        },
        "outputId": "397f0613-15ea-4fd8-d7fc-c591029bf79c"
      },
      "execution_count": null,
      "outputs": [
        {
          "output_type": "stream",
          "name": "stdout",
          "text": [
            "Epoch 1/5\n"
          ]
        },
        {
          "output_type": "stream",
          "name": "stderr",
          "text": [
            "/usr/local/lib/python3.7/dist-packages/keras/optimizer_v2/adam.py:105: UserWarning: The `lr` argument is deprecated, use `learning_rate` instead.\n",
            "  super(Adam, self).__init__(name, **kwargs)\n"
          ]
        },
        {
          "output_type": "stream",
          "name": "stdout",
          "text": [
            "1500/1500 [==============================] - 5s 3ms/step - loss: 2.3028 - accuracy: 0.0977 - val_loss: 2.3028 - val_accuracy: 0.1003\n",
            "Epoch 2/5\n",
            "1500/1500 [==============================] - 5s 3ms/step - loss: 2.3028 - accuracy: 0.0948 - val_loss: 2.3028 - val_accuracy: 0.0983\n",
            "Epoch 3/5\n",
            "1500/1500 [==============================] - 5s 3ms/step - loss: 2.3028 - accuracy: 0.0985 - val_loss: 2.3028 - val_accuracy: 0.0983\n",
            "Epoch 4/5\n",
            "1500/1500 [==============================] - 5s 3ms/step - loss: 2.3028 - accuracy: 0.0987 - val_loss: 2.3027 - val_accuracy: 0.0995\n",
            "Epoch 5/5\n",
            "1500/1500 [==============================] - 5s 3ms/step - loss: 2.3028 - accuracy: 0.0989 - val_loss: 2.3027 - val_accuracy: 0.0983\n"
          ]
        },
        {
          "output_type": "execute_result",
          "data": {
            "text/plain": [
              "<keras.callbacks.History at 0x7fe6b0446e50>"
            ]
          },
          "metadata": {},
          "execution_count": 54
        }
      ]
    },
    {
      "cell_type": "markdown",
      "source": [
        "lr=0.001 (learning rate = taxa de aprendizado) é a taxa que o modelo aprende, se o número que ele recebe for muito maior que esse o modelo tentará aprender rápido (o momento será maior) e irá perder muita informação fazendo a perda ser maior "
      ],
      "metadata": {
        "id": "VWLnFmVp-c75"
      }
    },
    {
      "cell_type": "markdown",
      "source": [
        "Podemos reduzir o número de imagens pra treinar, assim vamos passar mais vezes por menos exemplos"
      ],
      "metadata": {
        "id": "RKi4MilMCEmw"
      }
    },
    {
      "cell_type": "code",
      "source": [
        "adam = keras.optimizers.Adam(lr=0.5)\n",
        "modelo.compile(optimizer=adam , loss='sparse_categorical_crossentropy', metrics=['accuracy'])\n",
        "modelo.fit(imagens_treino, identificacoes_treino, epochs=5, validation_split=0.2)\n",
        "modelo.fit(imagens_treino, identificacoes_treino,batch_size = 480, epochs=5, validation_split=0.2)"
      ],
      "metadata": {
        "colab": {
          "base_uri": "https://localhost:8080/"
        },
        "id": "pH7ihhrC-6Vf",
        "outputId": "e51667e4-026a-4ffb-c3ac-c84d7f4f543c"
      },
      "execution_count": null,
      "outputs": [
        {
          "output_type": "stream",
          "name": "stdout",
          "text": [
            "Epoch 1/5\n"
          ]
        },
        {
          "output_type": "stream",
          "name": "stderr",
          "text": [
            "/usr/local/lib/python3.7/dist-packages/keras/optimizer_v2/adam.py:105: UserWarning: The `lr` argument is deprecated, use `learning_rate` instead.\n",
            "  super(Adam, self).__init__(name, **kwargs)\n"
          ]
        },
        {
          "output_type": "stream",
          "name": "stdout",
          "text": [
            "1500/1500 [==============================] - 5s 3ms/step - loss: 2.3616 - accuracy: 0.0987 - val_loss: 2.3318 - val_accuracy: 0.0957\n",
            "Epoch 2/5\n",
            "1500/1500 [==============================] - 5s 3ms/step - loss: 2.3642 - accuracy: 0.0994 - val_loss: 2.3302 - val_accuracy: 0.0995\n",
            "Epoch 3/5\n",
            "1500/1500 [==============================] - 5s 3ms/step - loss: 2.3591 - accuracy: 0.0999 - val_loss: 2.3641 - val_accuracy: 0.1027\n",
            "Epoch 4/5\n",
            "1500/1500 [==============================] - 5s 3ms/step - loss: 2.3617 - accuracy: 0.0986 - val_loss: 2.3890 - val_accuracy: 0.1003\n",
            "Epoch 5/5\n",
            "1500/1500 [==============================] - 5s 3ms/step - loss: 2.3594 - accuracy: 0.1020 - val_loss: 2.3466 - val_accuracy: 0.0995\n",
            "Epoch 1/5\n",
            "100/100 [==============================] - 2s 14ms/step - loss: 2.3123 - accuracy: 0.1004 - val_loss: 2.3092 - val_accuracy: 0.0983\n",
            "Epoch 2/5\n",
            "100/100 [==============================] - 1s 13ms/step - loss: 2.3075 - accuracy: 0.0988 - val_loss: 2.3057 - val_accuracy: 0.1003\n",
            "Epoch 3/5\n",
            "100/100 [==============================] - 1s 13ms/step - loss: 2.3062 - accuracy: 0.0984 - val_loss: 2.3040 - val_accuracy: 0.1005\n",
            "Epoch 4/5\n",
            "100/100 [==============================] - 1s 13ms/step - loss: 2.3068 - accuracy: 0.0986 - val_loss: 2.3044 - val_accuracy: 0.0957\n",
            "Epoch 5/5\n",
            "100/100 [==============================] - 1s 13ms/step - loss: 2.3074 - accuracy: 0.1014 - val_loss: 2.3087 - val_accuracy: 0.1003\n"
          ]
        },
        {
          "output_type": "execute_result",
          "data": {
            "text/plain": [
              "<keras.callbacks.History at 0x7fe6a8eab550>"
            ]
          },
          "metadata": {},
          "execution_count": 55
        }
      ]
    },
    {
      "cell_type": "markdown",
      "source": [
        "Podemos ver que não houve melhora, porém o tempo para treino é bem menor, logo esse hiperparâmetro ajuda a deixar o modelo mais rápido"
      ],
      "metadata": {
        "id": "p4fKmcs0C_Vo"
      }
    },
    {
      "cell_type": "code",
      "source": [
        "adam = keras.optimizers.Adam(lr=0.002)\n",
        "modelo.compile(optimizer=adam , loss='sparse_categorical_crossentropy', metrics=['accuracy'])\n",
        "modelo.fit(imagens_treino, identificacoes_treino, epochs=5, validation_split=0.2)\n",
        "modelo.fit(imagens_treino, identificacoes_treino,batch_size = 480, epochs=5, validation_split=0.2)"
      ],
      "metadata": {
        "colab": {
          "base_uri": "https://localhost:8080/"
        },
        "id": "SjnuurALCwbJ",
        "outputId": "37354c51-7401-4171-983c-86fef741c481"
      },
      "execution_count": null,
      "outputs": [
        {
          "output_type": "stream",
          "name": "stdout",
          "text": [
            "Epoch 1/5\n"
          ]
        },
        {
          "output_type": "stream",
          "name": "stderr",
          "text": [
            "/usr/local/lib/python3.7/dist-packages/keras/optimizer_v2/adam.py:105: UserWarning: The `lr` argument is deprecated, use `learning_rate` instead.\n",
            "  super(Adam, self).__init__(name, **kwargs)\n"
          ]
        },
        {
          "output_type": "stream",
          "name": "stdout",
          "text": [
            "1500/1500 [==============================] - 5s 3ms/step - loss: 2.3035 - accuracy: 0.0953 - val_loss: 2.3027 - val_accuracy: 0.1003\n",
            "Epoch 2/5\n",
            "1500/1500 [==============================] - 5s 3ms/step - loss: 2.3030 - accuracy: 0.0986 - val_loss: 2.3027 - val_accuracy: 0.1013\n",
            "Epoch 3/5\n",
            "1500/1500 [==============================] - 5s 3ms/step - loss: 2.3029 - accuracy: 0.0994 - val_loss: 2.3032 - val_accuracy: 0.0957\n",
            "Epoch 4/5\n",
            "1500/1500 [==============================] - 5s 3ms/step - loss: 2.3029 - accuracy: 0.0988 - val_loss: 2.3027 - val_accuracy: 0.0983\n",
            "Epoch 5/5\n",
            "1500/1500 [==============================] - 5s 3ms/step - loss: 2.3029 - accuracy: 0.0991 - val_loss: 2.3028 - val_accuracy: 0.1013\n",
            "Epoch 1/5\n",
            "100/100 [==============================] - 2s 14ms/step - loss: 2.3028 - accuracy: 0.0997 - val_loss: 2.3028 - val_accuracy: 0.1013\n",
            "Epoch 2/5\n",
            "100/100 [==============================] - 1s 13ms/step - loss: 2.3027 - accuracy: 0.0993 - val_loss: 2.3027 - val_accuracy: 0.0983\n",
            "Epoch 3/5\n",
            "100/100 [==============================] - 1s 13ms/step - loss: 2.3026 - accuracy: 0.0989 - val_loss: 2.3027 - val_accuracy: 0.0983\n",
            "Epoch 4/5\n",
            "100/100 [==============================] - 1s 13ms/step - loss: 2.3026 - accuracy: 0.0992 - val_loss: 2.3027 - val_accuracy: 0.0983\n",
            "Epoch 5/5\n",
            "100/100 [==============================] - 1s 13ms/step - loss: 2.3026 - accuracy: 0.1001 - val_loss: 2.3027 - val_accuracy: 0.0957\n"
          ]
        },
        {
          "output_type": "execute_result",
          "data": {
            "text/plain": [
              "<keras.callbacks.History at 0x7fe6a8d08e10>"
            ]
          },
          "metadata": {},
          "execution_count": 56
        }
      ]
    },
    {
      "cell_type": "markdown",
      "source": [
        "Ele ficou mais rápido e também mais preciso"
      ],
      "metadata": {
        "id": "tg1nI1qODwip"
      }
    },
    {
      "cell_type": "code",
      "source": [],
      "metadata": {
        "id": "CPjGLnrXDmHx"
      },
      "execution_count": null,
      "outputs": []
    }
  ]
}